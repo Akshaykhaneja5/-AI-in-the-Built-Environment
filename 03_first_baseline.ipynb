{
  "cells": [
    {
      "cell_type": "markdown",
      "metadata": {
        "id": "view-in-github",
        "colab_type": "text"
      },
      "source": [
        "<a href=\"https://colab.research.google.com/github/Akshaykhaneja5/-AI-in-the-Built-Environment/blob/main/03_first_baseline.ipynb\" target=\"_parent\"><img src=\"https://colab.research.google.com/assets/colab-badge.svg\" alt=\"Open In Colab\"/></a>"
      ]
    },
    {
      "cell_type": "markdown",
      "metadata": {
        "id": "JbdaBTYT1xab"
      },
      "source": [
        "<a href=\"https://colab.research.google.com/github/STASYA00/IAAC2024_tutorials/blob/main/notebooks/03_first_baseline.ipynb\" target=\"_parent\"><img src=\"https://colab.research.google.com/assets/colab-badge.svg\" alt=\"Open In Colab\"/></a>"
      ]
    },
    {
      "cell_type": "markdown",
      "metadata": {
        "id": "gZ8udFae1xag"
      },
      "source": [
        "### Data"
      ]
    },
    {
      "cell_type": "markdown",
      "metadata": {
        "id": "Argv_lfQ1xag"
      },
      "source": [
        "⚠️ **NOTE:** Kaggle files have already been uploaded to the repo. You find them in folder `kaggle_data`´\n",
        "\n",
        "If you for any reason need to download data from kaggle, instructions are in one of the [optional notebooks](./88_kaggle_data.ipynb) : <a href=\"https://colab.research.google.com/github/STASYA00/IAAC2024_tutorials/blob/main/notebooks/88_kaggle_data.ipynb\" target=\"_parent\"><img src=\"https://colab.research.google.com/assets/colab-badge.svg\" alt=\"Open In Colab\"/></a>"
      ]
    },
    {
      "cell_type": "code",
      "execution_count": null,
      "metadata": {
        "id": "axjtPxnW1xah"
      },
      "outputs": [],
      "source": [
        "!git clone https://github.com/STASYA00/IAAC2024_tutorials\n",
        "%cd IAAC2024_tutorials/notebooks"
      ]
    },
    {
      "cell_type": "code",
      "execution_count": null,
      "metadata": {
        "id": "p6p9-hvo1xaj"
      },
      "outputs": [],
      "source": [
        "# importing the necessary packages\n",
        "\n",
        "from matplotlib import pyplot as plt\n",
        "import pandas as pd\n",
        "import seaborn as sns\n",
        "\n",
        "from datetime import datetime\n",
        "import numpy as np\n",
        "import os"
      ]
    },
    {
      "cell_type": "markdown",
      "metadata": {
        "id": "SbWmETE21xaj"
      },
      "source": [
        "## 🏡 Buildings' Efficiency - First baseline"
      ]
    },
    {
      "cell_type": "code",
      "execution_count": null,
      "metadata": {
        "id": "sYhhqqqX1xak",
        "outputId": "61cb18b9-2797-4963-c1f6-14f28d5941a8"
      },
      "outputs": [
        {
          "data": {
            "text/html": [
              "<div>\n",
              "<style scoped>\n",
              "    .dataframe tbody tr th:only-of-type {\n",
              "        vertical-align: middle;\n",
              "    }\n",
              "\n",
              "    .dataframe tbody tr th {\n",
              "        vertical-align: top;\n",
              "    }\n",
              "\n",
              "    .dataframe thead th {\n",
              "        text-align: right;\n",
              "    }\n",
              "</style>\n",
              "<table border=\"1\" class=\"dataframe\">\n",
              "  <thead>\n",
              "    <tr style=\"text-align: right;\">\n",
              "      <th></th>\n",
              "      <th>building_id</th>\n",
              "      <th>day</th>\n",
              "      <th>meter</th>\n",
              "      <th>meter_reading</th>\n",
              "    </tr>\n",
              "  </thead>\n",
              "  <tbody>\n",
              "    <tr>\n",
              "      <th>0</th>\n",
              "      <td>2</td>\n",
              "      <td>2016-02-02</td>\n",
              "      <td>595</td>\n",
              "      <td>102.6</td>\n",
              "    </tr>\n",
              "    <tr>\n",
              "      <th>1</th>\n",
              "      <td>2</td>\n",
              "      <td>2016-02-02</td>\n",
              "      <td>207</td>\n",
              "      <td>0.3</td>\n",
              "    </tr>\n",
              "    <tr>\n",
              "      <th>2</th>\n",
              "      <td>2</td>\n",
              "      <td>2016-02-03</td>\n",
              "      <td>595</td>\n",
              "      <td>88.8</td>\n",
              "    </tr>\n",
              "    <tr>\n",
              "      <th>3</th>\n",
              "      <td>2</td>\n",
              "      <td>2016-02-03</td>\n",
              "      <td>207</td>\n",
              "      <td>0.1</td>\n",
              "    </tr>\n",
              "    <tr>\n",
              "      <th>4</th>\n",
              "      <td>2</td>\n",
              "      <td>2016-02-04</td>\n",
              "      <td>595</td>\n",
              "      <td>76.3</td>\n",
              "    </tr>\n",
              "  </tbody>\n",
              "</table>\n",
              "</div>"
            ],
            "text/plain": [
              "   building_id         day  meter  meter_reading\n",
              "0            2  2016-02-02    595          102.6\n",
              "1            2  2016-02-02    207            0.3\n",
              "2            2  2016-02-03    595           88.8\n",
              "3            2  2016-02-03    207            0.1\n",
              "4            2  2016-02-04    595           76.3"
            ]
          },
          "execution_count": 3,
          "metadata": {},
          "output_type": "execute_result"
        }
      ],
      "source": [
        "train = pd.read_csv(\"../kaggle_data/train.csv\", index_col=0)\n",
        "test = pd.read_csv(\"../kaggle_data/test.csv\", index_col=0)\n",
        "train.head()"
      ]
    },
    {
      "cell_type": "code",
      "execution_count": null,
      "metadata": {
        "id": "Iq4yBr-61xal"
      },
      "outputs": [],
      "source": [
        "# Function from kaggle\n",
        "\n",
        "def create_prediction_file(results:list | np.ndarray, results_dir=\"./\"):\n",
        "    \"\"\"\n",
        "    Function that formats predictions and writes them to a .csv file ready for submission.\n",
        "\n",
        "    :param: results         results to write to the file, list | array\n",
        "    :param: results_dir     directory to write the results file to, str, default current working directory\n",
        "                            make sure the directory exists before writing the files there.\n",
        "\n",
        "    \"\"\"\n",
        "    csv_fname = \"results_{}.csv\".format(datetime.now().strftime('%b%d_%H-%M-%S'))\n",
        "    with open(os.path.join(results_dir, csv_fname), 'w') as f:\n",
        "        f.write('id, meter_reading\\n')\n",
        "        for i, value in enumerate(results):\n",
        "            f.write(str(i) + ',' + str(max(0, value)) + '\\n')\n",
        "    return True"
      ]
    },
    {
      "cell_type": "markdown",
      "metadata": {
        "id": "iZeg2UYg1xal"
      },
      "source": [
        "Writing the result is like:\n",
        "\n",
        "`create_prediction_file(result)` \\\n",
        "`>> True`"
      ]
    },
    {
      "cell_type": "markdown",
      "metadata": {
        "id": "izZTLYuM1xam"
      },
      "source": [
        "[Finding a model](https://scikit-learn.org/stable/supervised_learning.html)\n",
        "\n",
        "To choose a model you need to understand different phases of ML process and when to use which model 🙂 this requires some studying 🙂\n",
        "\n",
        "Let's take the [first model in the list that applies to our problem](https://scikit-learn.org/stable/modules/linear_model.html#ordinary-least-squares) and follow the steps from the tutorial"
      ]
    },
    {
      "cell_type": "markdown",
      "metadata": {
        "id": "9ewV1Hvw1xan"
      },
      "source": [
        "### 🫧 Example"
      ]
    },
    {
      "cell_type": "code",
      "execution_count": null,
      "metadata": {
        "id": "axgoOa1Z1xao"
      },
      "outputs": [],
      "source": [
        "from sklearn.linear_model import LinearRegression, Ridge\n",
        "from sklearn.metrics import mean_squared_log_error as MSLE\n",
        "from sklearn.neighbors import NearestNeighbors, KNeighborsRegressor\n",
        "\n",
        "reg = LinearRegression(positive=True).fit(train[[\"building_id\", \"meter\"]], train[\"meter_reading\"])\n",
        "res = reg.predict(test[[\"building_id\", \"meter\"]])"
      ]
    },
    {
      "cell_type": "code",
      "execution_count": null,
      "metadata": {
        "id": "DGHhp_Rx1xao",
        "outputId": "907c51e4-80a9-4acb-f729-1237563250e6"
      },
      "outputs": [
        {
          "data": {
            "text/plain": [
              "array([-2394.57946606, -2394.57946606, -2394.57946606, ...,\n",
              "        9430.48575619,  9430.48575619,  9430.48575619])"
            ]
          },
          "execution_count": 6,
          "metadata": {},
          "output_type": "execute_result"
        }
      ],
      "source": [
        "res"
      ]
    },
    {
      "cell_type": "code",
      "execution_count": null,
      "metadata": {
        "id": "xAMbcs4O1xap",
        "outputId": "4da01c73-64b5-4170-b3de-d530b00a61cc"
      },
      "outputs": [
        {
          "data": {
            "text/plain": [
              "True"
            ]
          },
          "execution_count": 8,
          "metadata": {},
          "output_type": "execute_result"
        }
      ],
      "source": [
        "create_prediction_file(res, results_dir=\"../kaggle_data/tutorial_results/\")  # folder where the file lies"
      ]
    },
    {
      "cell_type": "markdown",
      "metadata": {
        "id": "WHZkvZUY1xaq"
      },
      "source": [
        "### 🫧 Another example"
      ]
    },
    {
      "cell_type": "markdown",
      "metadata": {
        "id": "ZEn-7kao1xaq"
      },
      "source": [
        "Let's try a model we are already familiar with, [KNN](https://scikit-learn.org/stable/modules/neighbors.html#nearest-neighbors-regression)"
      ]
    },
    {
      "cell_type": "code",
      "execution_count": null,
      "metadata": {
        "id": "zsHARb-k1xaq"
      },
      "outputs": [],
      "source": [
        "from sklearn.neighbors import KNeighborsRegressor\n",
        "nbrs = KNeighborsRegressor(n_neighbors=20, algorithm='kd_tree')"
      ]
    },
    {
      "cell_type": "markdown",
      "metadata": {
        "id": "T-J6Ifyw1xaq"
      },
      "source": [
        "#### 🧩 Task I - Run prediction and save the result"
      ]
    },
    {
      "cell_type": "code",
      "execution_count": null,
      "metadata": {
        "id": "N3jqKeOJ1xar"
      },
      "outputs": [],
      "source": [
        "# your code here\n",
        "\n",
        "res = # your code here"
      ]
    },
    {
      "cell_type": "markdown",
      "metadata": {
        "id": "WoIu-uhQ1xar"
      },
      "source": [
        "#### ⚙️ Solution"
      ]
    },
    {
      "cell_type": "code",
      "execution_count": null,
      "metadata": {
        "id": "SZjYkv091xar",
        "outputId": "9d1ccda0-f265-4e4a-b75f-3d433029ff05"
      },
      "outputs": [
        {
          "data": {
            "text/plain": [
              "True"
            ]
          },
          "execution_count": 10,
          "metadata": {},
          "output_type": "execute_result"
        }
      ],
      "source": [
        "nbrs.fit(train[[\"building_id\", \"meter\"]], train[\"meter_reading\"])\n",
        "res = nbrs.predict(test[[\"building_id\", \"meter\"]])\n",
        "create_prediction_file(res, results_dir=\"../kaggle_data/tutorial_results/\")"
      ]
    }
  ],
  "metadata": {
    "kernelspec": {
      "display_name": "capacity",
      "language": "python",
      "name": "python3"
    },
    "language_info": {
      "codemirror_mode": {
        "name": "ipython",
        "version": 3
      },
      "file_extension": ".py",
      "mimetype": "text/x-python",
      "name": "python",
      "nbconvert_exporter": "python",
      "pygments_lexer": "ipython3",
      "version": "3.10.6"
    },
    "colab": {
      "provenance": [],
      "include_colab_link": true
    }
  },
  "nbformat": 4,
  "nbformat_minor": 0
}