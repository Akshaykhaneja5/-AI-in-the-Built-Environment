{
 "cells": [
  {
   "cell_type": "markdown",
   "metadata": {},
   "source": [
    "<a href=\\\"https://colab.research.google.com/github/STASYA00/iaaC2024_tutorials/blob/main/src/notebooks/01_data_cleaning.ipynb\\\" target=\\\"_parent\\\">\n",
    "    <img src=\\\"https://colab.research.google.com/assets/colab-badge.svg\\\" alt=\\\"Open In Colab\\\"/>\n",
    "</a>"
   ]
  },
  {
   "cell_type": "code",
   "execution_count": 1,
   "metadata": {},
   "outputs": [],
   "source": [
    "# importing the necessary packages\n",
    "\n",
    "from matplotlib import pyplot as plt\n",
    "import pandas as pd\n",
    "import seaborn as sns\n"
   ]
  },
  {
   "cell_type": "markdown",
   "metadata": {},
   "source": [
    "## 🏡 Buildings' Efficiency - Data cleaning"
   ]
  },
  {
   "attachments": {
    "image.png": {
     "image/png": "[encoded data removed]"
    }
   },
   "cell_type": "markdown",
   "metadata": {},
   "source": [
    "![image.png](attachment:image.png)"
   ]
  },
  {
   "cell_type": "markdown",
   "metadata": {},
   "source": [
    "### First look at data"
   ]
  },
  {
   "cell_type": "code",
   "execution_count": 4,
   "metadata": {},
   "outputs": [
    {
     "name": "stdout",
     "output_type": "stream",
     "text": [
      "(251, 31)\n",
      "(266266, 4)\n"
     ]
    }
   ],
   "source": [
    "# reading the data\n",
    "train = pd.read_csv(\"../../kaggle_data/train.csv\", index_col=0)\n",
    "metadata = pd.read_csv(\"../../kaggle_data/metadata.csv\", index_col=0)\n",
    "print(metadata.shape)\n",
    "print(train.shape)"
   ]
  },
  {
   "cell_type": "markdown",
   "metadata": {},
   "source": [
    "Looking at the data:"
   ]
  },
  {
   "cell_type": "code",
   "execution_count": 5,
   "metadata": {},
   "outputs": [
    {
     "data": {
      "text/html": [
       "<div>\n",
       "<style scoped>\n",
       "    .dataframe tbody tr th:only-of-type {\n",
       "        vertical-align: middle;\n",
       "    }\n",
       "\n",
       "    .dataframe tbody tr th {\n",
       "        vertical-align: top;\n",
       "    }\n",
       "\n",
       "    .dataframe thead th {\n",
       "        text-align: right;\n",
       "    }\n",
       "</style>\n",
       "<table border=\"1\" class=\"dataframe\">\n",
       "  <thead>\n",
       "    <tr style=\"text-align: right;\">\n",
       "      <th></th>\n",
       "      <th>building_id</th>\n",
       "      <th>day</th>\n",
       "      <th>meter</th>\n",
       "      <th>meter_reading</th>\n",
       "    </tr>\n",
       "  </thead>\n",
       "  <tbody>\n",
       "    <tr>\n",
       "      <th>0</th>\n",
       "      <td>2</td>\n",
       "      <td>2016-02-02</td>\n",
       "      <td>595</td>\n",
       "      <td>102.6</td>\n",
       "    </tr>\n",
       "    <tr>\n",
       "      <th>1</th>\n",
       "      <td>2</td>\n",
       "      <td>2016-02-02</td>\n",
       "      <td>207</td>\n",
       "      <td>0.3</td>\n",
       "    </tr>\n",
       "    <tr>\n",
       "      <th>2</th>\n",
       "      <td>2</td>\n",
       "      <td>2016-02-03</td>\n",
       "      <td>595</td>\n",
       "      <td>88.8</td>\n",
       "    </tr>\n",
       "    <tr>\n",
       "      <th>3</th>\n",
       "      <td>2</td>\n",
       "      <td>2016-02-03</td>\n",
       "      <td>207</td>\n",
       "      <td>0.1</td>\n",
       "    </tr>\n",
       "    <tr>\n",
       "      <th>4</th>\n",
       "      <td>2</td>\n",
       "      <td>2016-02-04</td>\n",
       "      <td>595</td>\n",
       "      <td>76.3</td>\n",
       "    </tr>\n",
       "    <tr>\n",
       "      <th>5</th>\n",
       "      <td>2</td>\n",
       "      <td>2016-02-04</td>\n",
       "      <td>207</td>\n",
       "      <td>0.9</td>\n",
       "    </tr>\n",
       "    <tr>\n",
       "      <th>6</th>\n",
       "      <td>2</td>\n",
       "      <td>2016-02-05</td>\n",
       "      <td>595</td>\n",
       "      <td>78.7</td>\n",
       "    </tr>\n",
       "  </tbody>\n",
       "</table>\n",
       "</div>"
      ],
      "text/plain": [
       "   building_id         day  meter  meter_reading\n",
       "0            2  2016-02-02    595          102.6\n",
       "1            2  2016-02-02    207            0.3\n",
       "2            2  2016-02-03    595           88.8\n",
       "3            2  2016-02-03    207            0.1\n",
       "4            2  2016-02-04    595           76.3\n",
       "5            2  2016-02-04    207            0.9\n",
       "6            2  2016-02-05    595           78.7"
      ]
     },
     "execution_count": 5,
     "metadata": {},
     "output_type": "execute_result"
    }
   ],
   "source": [
    "train.head(7)"
   ]
  },
  {
   "cell_type": "code",
   "execution_count": 6,
   "metadata": {},
   "outputs": [
    {
     "data": {
      "text/html": [
       "<div>\n",
       "<style scoped>\n",
       "    .dataframe tbody tr th:only-of-type {\n",
       "        vertical-align: middle;\n",
       "    }\n",
       "\n",
       "    .dataframe tbody tr th {\n",
       "        vertical-align: top;\n",
       "    }\n",
       "\n",
       "    .dataframe thead th {\n",
       "        text-align: right;\n",
       "    }\n",
       "</style>\n",
       "<table border=\"1\" class=\"dataframe\">\n",
       "  <thead>\n",
       "    <tr style=\"text-align: right;\">\n",
       "      <th></th>\n",
       "      <th>building_id</th>\n",
       "      <th>site_id</th>\n",
       "      <th>site_id_kaggle</th>\n",
       "      <th>primaryspaceusage</th>\n",
       "      <th>sub_primaryspaceusage</th>\n",
       "      <th>sqm</th>\n",
       "      <th>sqft</th>\n",
       "      <th>lat</th>\n",
       "      <th>lng</th>\n",
       "      <th>timezone</th>\n",
       "      <th>...</th>\n",
       "      <th>yearbuilt</th>\n",
       "      <th>date_opened</th>\n",
       "      <th>numberoffloors</th>\n",
       "      <th>occupants</th>\n",
       "      <th>energystarscore</th>\n",
       "      <th>eui</th>\n",
       "      <th>site_eui</th>\n",
       "      <th>source_eui</th>\n",
       "      <th>leed_level</th>\n",
       "      <th>rating</th>\n",
       "    </tr>\n",
       "  </thead>\n",
       "  <tbody>\n",
       "    <tr>\n",
       "      <th>136</th>\n",
       "      <td>432</td>\n",
       "      <td>Trapano</td>\n",
       "      <td>143.0</td>\n",
       "      <td>Education</td>\n",
       "      <td>College Classroom</td>\n",
       "      <td>4703.0</td>\n",
       "      <td>50623.0</td>\n",
       "      <td>51.51879</td>\n",
       "      <td>-0.134556</td>\n",
       "      <td>Europe/London</td>\n",
       "      <td>...</td>\n",
       "      <td>NaN</td>\n",
       "      <td>NaN</td>\n",
       "      <td>5.0</td>\n",
       "      <td>NaN</td>\n",
       "      <td>NaN</td>\n",
       "      <td>NaN</td>\n",
       "      <td>NaN</td>\n",
       "      <td>NaN</td>\n",
       "      <td>NaN</td>\n",
       "      <td>G</td>\n",
       "    </tr>\n",
       "    <tr>\n",
       "      <th>137</th>\n",
       "      <td>416</td>\n",
       "      <td>Trapano</td>\n",
       "      <td>143.0</td>\n",
       "      <td>Education</td>\n",
       "      <td>College Classroom</td>\n",
       "      <td>499.3</td>\n",
       "      <td>5374.0</td>\n",
       "      <td>51.51879</td>\n",
       "      <td>-0.134556</td>\n",
       "      <td>Europe/London</td>\n",
       "      <td>...</td>\n",
       "      <td>NaN</td>\n",
       "      <td>NaN</td>\n",
       "      <td>4.0</td>\n",
       "      <td>NaN</td>\n",
       "      <td>NaN</td>\n",
       "      <td>NaN</td>\n",
       "      <td>NaN</td>\n",
       "      <td>NaN</td>\n",
       "      <td>NaN</td>\n",
       "      <td>NaN</td>\n",
       "    </tr>\n",
       "    <tr>\n",
       "      <th>138</th>\n",
       "      <td>436</td>\n",
       "      <td>Trapano</td>\n",
       "      <td>143.0</td>\n",
       "      <td>Education</td>\n",
       "      <td>College Classroom</td>\n",
       "      <td>9061.0</td>\n",
       "      <td>97532.0</td>\n",
       "      <td>51.51879</td>\n",
       "      <td>-0.134556</td>\n",
       "      <td>Europe/London</td>\n",
       "      <td>...</td>\n",
       "      <td>2005.0</td>\n",
       "      <td>NaN</td>\n",
       "      <td>10.0</td>\n",
       "      <td>NaN</td>\n",
       "      <td>NaN</td>\n",
       "      <td>NaN</td>\n",
       "      <td>NaN</td>\n",
       "      <td>NaN</td>\n",
       "      <td>NaN</td>\n",
       "      <td>F</td>\n",
       "    </tr>\n",
       "    <tr>\n",
       "      <th>139</th>\n",
       "      <td>441</td>\n",
       "      <td>Trapano</td>\n",
       "      <td>143.0</td>\n",
       "      <td>Education</td>\n",
       "      <td>College Laboratory</td>\n",
       "      <td>7579.0</td>\n",
       "      <td>81580.0</td>\n",
       "      <td>51.51879</td>\n",
       "      <td>-0.134556</td>\n",
       "      <td>Europe/London</td>\n",
       "      <td>...</td>\n",
       "      <td>1913.0</td>\n",
       "      <td>NaN</td>\n",
       "      <td>5.0</td>\n",
       "      <td>NaN</td>\n",
       "      <td>NaN</td>\n",
       "      <td>NaN</td>\n",
       "      <td>NaN</td>\n",
       "      <td>NaN</td>\n",
       "      <td>NaN</td>\n",
       "      <td>NaN</td>\n",
       "    </tr>\n",
       "    <tr>\n",
       "      <th>140</th>\n",
       "      <td>442</td>\n",
       "      <td>Trapano</td>\n",
       "      <td>143.0</td>\n",
       "      <td>Education</td>\n",
       "      <td>College Laboratory</td>\n",
       "      <td>5295.0</td>\n",
       "      <td>56995.0</td>\n",
       "      <td>51.51879</td>\n",
       "      <td>-0.134556</td>\n",
       "      <td>Europe/London</td>\n",
       "      <td>...</td>\n",
       "      <td>1953.0</td>\n",
       "      <td>NaN</td>\n",
       "      <td>6.0</td>\n",
       "      <td>NaN</td>\n",
       "      <td>NaN</td>\n",
       "      <td>NaN</td>\n",
       "      <td>NaN</td>\n",
       "      <td>NaN</td>\n",
       "      <td>NaN</td>\n",
       "      <td>G</td>\n",
       "    </tr>\n",
       "  </tbody>\n",
       "</table>\n",
       "<p>5 rows × 31 columns</p>\n",
       "</div>"
      ],
      "text/plain": [
       "     building_id  site_id  site_id_kaggle primaryspaceusage  \\\n",
       "136          432  Trapano           143.0         Education   \n",
       "137          416  Trapano           143.0         Education   \n",
       "138          436  Trapano           143.0         Education   \n",
       "139          441  Trapano           143.0         Education   \n",
       "140          442  Trapano           143.0         Education   \n",
       "\n",
       "    sub_primaryspaceusage     sqm     sqft       lat       lng       timezone  \\\n",
       "136     College Classroom  4703.0  50623.0  51.51879 -0.134556  Europe/London   \n",
       "137     College Classroom   499.3   5374.0  51.51879 -0.134556  Europe/London   \n",
       "138     College Classroom  9061.0  97532.0  51.51879 -0.134556  Europe/London   \n",
       "139    College Laboratory  7579.0  81580.0  51.51879 -0.134556  Europe/London   \n",
       "140    College Laboratory  5295.0  56995.0  51.51879 -0.134556  Europe/London   \n",
       "\n",
       "     ... yearbuilt date_opened  numberoffloors  occupants energystarscore  \\\n",
       "136  ...       NaN         NaN             5.0        NaN             NaN   \n",
       "137  ...       NaN         NaN             4.0        NaN             NaN   \n",
       "138  ...    2005.0         NaN            10.0        NaN             NaN   \n",
       "139  ...    1913.0         NaN             5.0        NaN             NaN   \n",
       "140  ...    1953.0         NaN             6.0        NaN             NaN   \n",
       "\n",
       "     eui  site_eui source_eui leed_level rating  \n",
       "136  NaN       NaN        NaN        NaN      G  \n",
       "137  NaN       NaN        NaN        NaN    NaN  \n",
       "138  NaN       NaN        NaN        NaN      F  \n",
       "139  NaN       NaN        NaN        NaN    NaN  \n",
       "140  NaN       NaN        NaN        NaN      G  \n",
       "\n",
       "[5 rows x 31 columns]"
      ]
     },
     "execution_count": 6,
     "metadata": {},
     "output_type": "execute_result"
    }
   ],
   "source": [
    "metadata.head()"
   ]
  },
  {
   "cell_type": "markdown",
   "metadata": {},
   "source": [
    "Let's look at all the available columns in the metadata file:"
   ]
  },
  {
   "cell_type": "code",
   "execution_count": 7,
   "metadata": {},
   "outputs": [
    {
     "data": {
      "text/plain": [
       "Index(['building_id', 'site_id', 'site_id_kaggle', 'primaryspaceusage',\n",
       "       'sub_primaryspaceusage', 'sqm', 'sqft', 'lat', 'lng', 'timezone',\n",
       "       'electricity', 'hotwater', 'chilledwater', 'steam', 'water',\n",
       "       'irrigation', 'solar', 'gas', 'industry', 'subindustry', 'heatingtype',\n",
       "       'yearbuilt', 'date_opened', 'numberoffloors', 'occupants',\n",
       "       'energystarscore', 'eui', 'site_eui', 'source_eui', 'leed_level',\n",
       "       'rating'],\n",
       "      dtype='object')"
      ]
     },
     "execution_count": 7,
     "metadata": {},
     "output_type": "execute_result"
    }
   ],
   "source": [
    "metadata.columns"
   ]
  },
  {
   "cell_type": "markdown",
   "metadata": {},
   "source": [
    "What are the different values in site_id column?"
   ]
  },
  {
   "cell_type": "code",
   "execution_count": 9,
   "metadata": {},
   "outputs": [
    {
     "name": "stdout",
     "output_type": "stream",
     "text": [
      "['Trapano' 'Gunnar' 'Vorr' 'Nymeria' 'Korv']\n"
     ]
    }
   ],
   "source": [
    "print(metadata[\"site_id\"].unique())"
   ]
  },
  {
   "cell_type": "code",
   "execution_count": 11,
   "metadata": {},
   "outputs": [
    {
     "name": "stdout",
     "output_type": "stream",
     "text": [
      "site_id\n",
      "Gunnar     147\n",
      "Trapano     52\n",
      "Nymeria     36\n",
      "Vorr         9\n",
      "Korv         7\n",
      "Name: count, dtype: int64\n"
     ]
    }
   ],
   "source": [
    "print(metadata[\"site_id\"].value_counts())"
   ]
  },
  {
   "cell_type": "code",
   "execution_count": 10,
   "metadata": {},
   "outputs": [
    {
     "name": "stdout",
     "output_type": "stream",
     "text": [
      "[  nan 2005. 1913. 1953. 2006. 1909. 1958. 1968. 2004. 1960. 2007. 1976.\n",
      " 1906. 1991. 1989. 1900. 1995. 1956. 1930. 1998. 1967. 1919. 1977. 1955.\n",
      " 1997. 1970. 1928. 1965. 1907. 1966. 1945. 2013. 1902. 1915. 1937. 2000.\n",
      " 1994. 2012. 1936. 1954. 1996.]\n"
     ]
    }
   ],
   "source": [
    "print(metadata[\"yearbuilt\"].unique())"
   ]
  },
  {
   "cell_type": "code",
   "execution_count": 12,
   "metadata": {},
   "outputs": [
    {
     "name": "stdout",
     "output_type": "stream",
     "text": [
      "yearbuilt\n",
      "1976.0    76\n",
      "1966.0    32\n",
      "1919.0    29\n",
      "1945.0    10\n",
      "1960.0     6\n",
      "1906.0     3\n",
      "1956.0     2\n",
      "1995.0     2\n",
      "1900.0     2\n",
      "1930.0     2\n",
      "1967.0     2\n",
      "2004.0     2\n",
      "1968.0     2\n",
      "1958.0     2\n",
      "2006.0     2\n",
      "1902.0     1\n",
      "1915.0     1\n",
      "2013.0     1\n",
      "2000.0     1\n",
      "1937.0     1\n",
      "1965.0     1\n",
      "1994.0     1\n",
      "2012.0     1\n",
      "1936.0     1\n",
      "1954.0     1\n",
      "1907.0     1\n",
      "2005.0     1\n",
      "1928.0     1\n",
      "1970.0     1\n",
      "1997.0     1\n",
      "1955.0     1\n",
      "1977.0     1\n",
      "1913.0     1\n",
      "1998.0     1\n",
      "1989.0     1\n",
      "1991.0     1\n",
      "2007.0     1\n",
      "1909.0     1\n",
      "1953.0     1\n",
      "1996.0     1\n",
      "Name: count, dtype: int64\n"
     ]
    }
   ],
   "source": [
    "print(metadata[\"yearbuilt\"].value_counts())"
   ]
  },
  {
   "cell_type": "markdown",
   "metadata": {},
   "source": [
    "Many values, probably too difficult to understand anything this way. We do see a nan value (missing value). There are many columns to look at, probably too many to make a manual check for them.\n",
    "\n",
    "Let's take a look at the columns that have a few (less than 5, since 5 is the number of different building sites) unique values:"
   ]
  },
  {
   "cell_type": "code",
   "execution_count": 15,
   "metadata": {},
   "outputs": [
    {
     "name": "stdout",
     "output_type": "stream",
     "text": [
      "building_id 251\n",
      "site_id 5\n",
      "site_id_kaggle 4\n",
      "\t\t [143.  52.  nan  13.]\n",
      "------------------\n",
      "primaryspaceusage 12\n",
      "sub_primaryspaceusage 26\n",
      "sqm 245\n",
      "sqft 245\n",
      "lat 5\n",
      "lng 5\n",
      "timezone 2\n",
      "\t\t ['Europe/London' 'Europe/Dublin']\n",
      "------------------\n",
      "electricity 2\n",
      "\t\t ['Yes' nan]\n",
      "------------------\n",
      "hotwater 2\n",
      "\t\t [nan 'Yes']\n",
      "------------------\n",
      "chilledwater 1\n",
      "\t\t [nan]\n",
      "------------------\n",
      "steam 1\n",
      "\t\t [nan]\n",
      "------------------\n",
      "water 2\n",
      "\t\t [nan 'Yes']\n",
      "------------------\n",
      "irrigation 1\n",
      "\t\t [nan]\n",
      "------------------\n",
      "solar 1\n",
      "\t\t [nan]\n",
      "------------------\n",
      "gas 2\n",
      "\t\t [nan 'Yes']\n",
      "------------------\n",
      "industry 4\n",
      "\t\t ['Education' 'Government' 'Hospitality' 'Healthcare']\n",
      "------------------\n",
      "subindustry 12\n",
      "heatingtype 13\n",
      "yearbuilt 41\n",
      "date_opened 1\n",
      "\t\t [nan]\n",
      "------------------\n",
      "numberoffloors 15\n",
      "occupants 101\n",
      "energystarscore 1\n",
      "\t\t [nan]\n",
      "------------------\n",
      "eui 1\n",
      "\t\t [nan]\n",
      "------------------\n",
      "site_eui 1\n",
      "\t\t [nan]\n",
      "------------------\n",
      "source_eui 1\n",
      "\t\t [nan]\n",
      "------------------\n",
      "leed_level 1\n",
      "\t\t [nan]\n",
      "------------------\n",
      "rating 10\n"
     ]
    }
   ],
   "source": [
    "for c in metadata.columns:\n",
    "    print(c, len(metadata[c].unique()))\n",
    "    if len(metadata[c].unique())<5:\n",
    "        print(\"\\t\\t\", metadata[c].unique())\n",
    "        print(\"------------------\") # separator to read the results by column more clearly"
   ]
  },
  {
   "cell_type": "markdown",
   "metadata": {},
   "source": [
    "### Let's clean a bit"
   ]
  },
  {
   "cell_type": "markdown",
   "metadata": {},
   "source": [
    "![data cleaning](https://img.freepik.com/premium-photo/messy-kitchen-with-dirty-dishes-counter-dishes-counter-generative-ai_97167-9229.jpg)"
   ]
  },
  {
   "cell_type": "markdown",
   "metadata": {},
   "source": [
    " our data ^^"
   ]
  },
  {
   "cell_type": "markdown",
   "metadata": {},
   "source": [
    "### Dropping meaningless columns"
   ]
  },
  {
   "cell_type": "code",
   "execution_count": 18,
   "metadata": {},
   "outputs": [
    {
     "name": "stdout",
     "output_type": "stream",
     "text": [
      "Useless: chilledwater\n",
      "Useless: steam\n",
      "Useless: irrigation\n",
      "Useless: solar\n",
      "Useless: date_opened\n",
      "Useless: energystarscore\n",
      "Useless: eui\n",
      "Useless: site_eui\n",
      "Useless: source_eui\n",
      "Useless: leed_level\n"
     ]
    }
   ],
   "source": [
    "for c in metadata.columns:\n",
    "    if len(metadata[c].unique())==1:\n",
    "        print(\"Useless:\", c)\n"
   ]
  },
  {
   "cell_type": "markdown",
   "metadata": {},
   "source": [
    "Dropping a column:"
   ]
  },
  {
   "cell_type": "code",
   "execution_count": 19,
   "metadata": {},
   "outputs": [],
   "source": [
    "metadata = metadata.drop(columns=[\"site_id_kaggle\"])"
   ]
  },
  {
   "cell_type": "code",
   "execution_count": 21,
   "metadata": {},
   "outputs": [
    {
     "data": {
      "text/html": [
       "<div>\n",
       "<style scoped>\n",
       "    .dataframe tbody tr th:only-of-type {\n",
       "        vertical-align: middle;\n",
       "    }\n",
       "\n",
       "    .dataframe tbody tr th {\n",
       "        vertical-align: top;\n",
       "    }\n",
       "\n",
       "    .dataframe thead th {\n",
       "        text-align: right;\n",
       "    }\n",
       "</style>\n",
       "<table border=\"1\" class=\"dataframe\">\n",
       "  <thead>\n",
       "    <tr style=\"text-align: right;\">\n",
       "      <th></th>\n",
       "      <th>building_id</th>\n",
       "      <th>site_id</th>\n",
       "      <th>primaryspaceusage</th>\n",
       "      <th>sub_primaryspaceusage</th>\n",
       "      <th>sqm</th>\n",
       "      <th>sqft</th>\n",
       "      <th>lat</th>\n",
       "      <th>lng</th>\n",
       "      <th>timezone</th>\n",
       "      <th>electricity</th>\n",
       "      <th>...</th>\n",
       "      <th>yearbuilt</th>\n",
       "      <th>date_opened</th>\n",
       "      <th>numberoffloors</th>\n",
       "      <th>occupants</th>\n",
       "      <th>energystarscore</th>\n",
       "      <th>eui</th>\n",
       "      <th>site_eui</th>\n",
       "      <th>source_eui</th>\n",
       "      <th>leed_level</th>\n",
       "      <th>rating</th>\n",
       "    </tr>\n",
       "  </thead>\n",
       "  <tbody>\n",
       "    <tr>\n",
       "      <th>136</th>\n",
       "      <td>432</td>\n",
       "      <td>Trapano</td>\n",
       "      <td>Education</td>\n",
       "      <td>College Classroom</td>\n",
       "      <td>4703.0</td>\n",
       "      <td>50623.0</td>\n",
       "      <td>51.51879</td>\n",
       "      <td>-0.134556</td>\n",
       "      <td>Europe/London</td>\n",
       "      <td>Yes</td>\n",
       "      <td>...</td>\n",
       "      <td>NaN</td>\n",
       "      <td>NaN</td>\n",
       "      <td>5.0</td>\n",
       "      <td>NaN</td>\n",
       "      <td>NaN</td>\n",
       "      <td>NaN</td>\n",
       "      <td>NaN</td>\n",
       "      <td>NaN</td>\n",
       "      <td>NaN</td>\n",
       "      <td>G</td>\n",
       "    </tr>\n",
       "    <tr>\n",
       "      <th>137</th>\n",
       "      <td>416</td>\n",
       "      <td>Trapano</td>\n",
       "      <td>Education</td>\n",
       "      <td>College Classroom</td>\n",
       "      <td>499.3</td>\n",
       "      <td>5374.0</td>\n",
       "      <td>51.51879</td>\n",
       "      <td>-0.134556</td>\n",
       "      <td>Europe/London</td>\n",
       "      <td>Yes</td>\n",
       "      <td>...</td>\n",
       "      <td>NaN</td>\n",
       "      <td>NaN</td>\n",
       "      <td>4.0</td>\n",
       "      <td>NaN</td>\n",
       "      <td>NaN</td>\n",
       "      <td>NaN</td>\n",
       "      <td>NaN</td>\n",
       "      <td>NaN</td>\n",
       "      <td>NaN</td>\n",
       "      <td>NaN</td>\n",
       "    </tr>\n",
       "    <tr>\n",
       "      <th>138</th>\n",
       "      <td>436</td>\n",
       "      <td>Trapano</td>\n",
       "      <td>Education</td>\n",
       "      <td>College Classroom</td>\n",
       "      <td>9061.0</td>\n",
       "      <td>97532.0</td>\n",
       "      <td>51.51879</td>\n",
       "      <td>-0.134556</td>\n",
       "      <td>Europe/London</td>\n",
       "      <td>Yes</td>\n",
       "      <td>...</td>\n",
       "      <td>2005.0</td>\n",
       "      <td>NaN</td>\n",
       "      <td>10.0</td>\n",
       "      <td>NaN</td>\n",
       "      <td>NaN</td>\n",
       "      <td>NaN</td>\n",
       "      <td>NaN</td>\n",
       "      <td>NaN</td>\n",
       "      <td>NaN</td>\n",
       "      <td>F</td>\n",
       "    </tr>\n",
       "    <tr>\n",
       "      <th>139</th>\n",
       "      <td>441</td>\n",
       "      <td>Trapano</td>\n",
       "      <td>Education</td>\n",
       "      <td>College Laboratory</td>\n",
       "      <td>7579.0</td>\n",
       "      <td>81580.0</td>\n",
       "      <td>51.51879</td>\n",
       "      <td>-0.134556</td>\n",
       "      <td>Europe/London</td>\n",
       "      <td>Yes</td>\n",
       "      <td>...</td>\n",
       "      <td>1913.0</td>\n",
       "      <td>NaN</td>\n",
       "      <td>5.0</td>\n",
       "      <td>NaN</td>\n",
       "      <td>NaN</td>\n",
       "      <td>NaN</td>\n",
       "      <td>NaN</td>\n",
       "      <td>NaN</td>\n",
       "      <td>NaN</td>\n",
       "      <td>NaN</td>\n",
       "    </tr>\n",
       "    <tr>\n",
       "      <th>140</th>\n",
       "      <td>442</td>\n",
       "      <td>Trapano</td>\n",
       "      <td>Education</td>\n",
       "      <td>College Laboratory</td>\n",
       "      <td>5295.0</td>\n",
       "      <td>56995.0</td>\n",
       "      <td>51.51879</td>\n",
       "      <td>-0.134556</td>\n",
       "      <td>Europe/London</td>\n",
       "      <td>Yes</td>\n",
       "      <td>...</td>\n",
       "      <td>1953.0</td>\n",
       "      <td>NaN</td>\n",
       "      <td>6.0</td>\n",
       "      <td>NaN</td>\n",
       "      <td>NaN</td>\n",
       "      <td>NaN</td>\n",
       "      <td>NaN</td>\n",
       "      <td>NaN</td>\n",
       "      <td>NaN</td>\n",
       "      <td>G</td>\n",
       "    </tr>\n",
       "  </tbody>\n",
       "</table>\n",
       "<p>5 rows × 30 columns</p>\n",
       "</div>"
      ],
      "text/plain": [
       "     building_id  site_id primaryspaceusage sub_primaryspaceusage     sqm  \\\n",
       "136          432  Trapano         Education     College Classroom  4703.0   \n",
       "137          416  Trapano         Education     College Classroom   499.3   \n",
       "138          436  Trapano         Education     College Classroom  9061.0   \n",
       "139          441  Trapano         Education    College Laboratory  7579.0   \n",
       "140          442  Trapano         Education    College Laboratory  5295.0   \n",
       "\n",
       "        sqft       lat       lng       timezone electricity  ... yearbuilt  \\\n",
       "136  50623.0  51.51879 -0.134556  Europe/London         Yes  ...       NaN   \n",
       "137   5374.0  51.51879 -0.134556  Europe/London         Yes  ...       NaN   \n",
       "138  97532.0  51.51879 -0.134556  Europe/London         Yes  ...    2005.0   \n",
       "139  81580.0  51.51879 -0.134556  Europe/London         Yes  ...    1913.0   \n",
       "140  56995.0  51.51879 -0.134556  Europe/London         Yes  ...    1953.0   \n",
       "\n",
       "     date_opened  numberoffloors occupants  energystarscore  eui site_eui  \\\n",
       "136          NaN             5.0       NaN              NaN  NaN      NaN   \n",
       "137          NaN             4.0       NaN              NaN  NaN      NaN   \n",
       "138          NaN            10.0       NaN              NaN  NaN      NaN   \n",
       "139          NaN             5.0       NaN              NaN  NaN      NaN   \n",
       "140          NaN             6.0       NaN              NaN  NaN      NaN   \n",
       "\n",
       "    source_eui leed_level rating  \n",
       "136        NaN        NaN      G  \n",
       "137        NaN        NaN    NaN  \n",
       "138        NaN        NaN      F  \n",
       "139        NaN        NaN    NaN  \n",
       "140        NaN        NaN      G  \n",
       "\n",
       "[5 rows x 30 columns]"
      ]
     },
     "execution_count": 21,
     "metadata": {},
     "output_type": "execute_result"
    }
   ],
   "source": [
    "metadata.head()"
   ]
  },
  {
   "cell_type": "markdown",
   "metadata": {},
   "source": [
    "#### 🧩 Task I - Dropping useless columns"
   ]
  },
  {
   "cell_type": "markdown",
   "metadata": {},
   "source": [
    "Are there any other columns that you deem meaningless? Write your code here:"
   ]
  },
  {
   "cell_type": "code",
   "execution_count": null,
   "metadata": {},
   "outputs": [],
   "source": [
    "for c in metadata.columns:\n",
    "    ### your code \n",
    "    \n",
    "    print(\"Dropped column \", c)"
   ]
  },
  {
   "cell_type": "markdown",
   "metadata": {},
   "source": [
    "#### ⚙️ Solution"
   ]
  },
  {
   "cell_type": "code",
   "execution_count": 23,
   "metadata": {},
   "outputs": [],
   "source": [
    "for c in metadata.columns:\n",
    "    if len(metadata[c].unique())==1:\n",
    "        metadata = metadata.drop(columns=[c])"
   ]
  },
  {
   "cell_type": "markdown",
   "metadata": {},
   "source": [
    "You can, of course drop other columns as well if you find it necessary!"
   ]
  },
  {
   "cell_type": "code",
   "execution_count": 25,
   "metadata": {},
   "outputs": [],
   "source": [
    "columns_to_drop = []  # list of column names to drop\n",
    "for c in columns_to_drop:\n",
    "    metadata = metadata.drop(columns=[c])"
   ]
  },
  {
   "cell_type": "markdown",
   "metadata": {},
   "source": [
    "### Categorical Columns"
   ]
  },
  {
   "cell_type": "markdown",
   "metadata": {},
   "source": [
    "![categorical_data](https://sdv.ghost.io/content/images/2023/01/Categorical-Data.png)"
   ]
  },
  {
   "cell_type": "code",
   "execution_count": null,
   "metadata": {},
   "outputs": [],
   "source": [
    "metadata.columns"
   ]
  },
  {
   "cell_type": "code",
   "execution_count": 31,
   "metadata": {},
   "outputs": [
    {
     "name": "stdout",
     "output_type": "stream",
     "text": [
      "building_id 251\n",
      "-------------------------\n",
      "site_id 5\n",
      "-------------------------\n",
      "primaryspaceusage 12\n",
      "-------------------------\n",
      "sub_primaryspaceusage 26\n",
      "-------------------------\n",
      "sqm 245\n",
      "-------------------------\n",
      "sqft 245\n",
      "-------------------------\n",
      "lat 5\n",
      "-------------------------\n",
      "lng 5\n",
      "-------------------------\n",
      "timezone 2\n",
      "---\n",
      " timezone\n",
      "Europe/London    215\n",
      "Europe/Dublin     36\n",
      "Name: count, dtype: int64\n",
      "-------------------------\n",
      "electricity 2\n",
      "---\n",
      " electricity\n",
      "Yes    250\n",
      "Name: count, dtype: int64\n",
      "-------------------------\n",
      "hotwater 2\n",
      "---\n",
      " hotwater\n",
      "Yes    15\n",
      "Name: count, dtype: int64\n",
      "-------------------------\n",
      "water 2\n",
      "---\n",
      " water\n",
      "Yes    16\n",
      "Name: count, dtype: int64\n",
      "-------------------------\n",
      "gas 2\n",
      "---\n",
      " gas\n",
      "Yes    137\n",
      "Name: count, dtype: int64\n",
      "-------------------------\n",
      "industry 4\n",
      "---\n",
      " industry\n",
      "Education      163\n",
      "Government      80\n",
      "Healthcare       6\n",
      "Hospitality      2\n",
      "Name: count, dtype: int64\n",
      "-------------------------\n",
      "subindustry 12\n",
      "-------------------------\n",
      "heatingtype 13\n",
      "-------------------------\n",
      "yearbuilt 41\n",
      "-------------------------\n",
      "numberoffloors 15\n",
      "-------------------------\n",
      "occupants 101\n",
      "-------------------------\n",
      "rating 10\n",
      "-------------------------\n"
     ]
    }
   ],
   "source": [
    "for c in metadata.columns:\n",
    "    print(c, len(metadata[c].unique()))\n",
    "    if len(metadata[c].unique())<5:\n",
    "        print(\"---\\n\", metadata[c].value_counts())\n",
    "    print(\"-------------------------\")"
   ]
  },
  {
   "cell_type": "markdown",
   "metadata": {},
   "source": [
    "How to see how much each value is in procents? 250 for one value in \"electricity\" sounds like a lot.. 🤔"
   ]
  },
  {
   "cell_type": "code",
   "execution_count": 32,
   "metadata": {},
   "outputs": [
    {
     "name": "stdout",
     "output_type": "stream",
     "text": [
      "timezone\n",
      "---\n",
      " timezone\n",
      "Europe/London    0.856574\n",
      "Europe/Dublin    0.143426\n",
      "Name: count, dtype: float64\n",
      "electricity\n",
      "---\n",
      " electricity\n",
      "Yes    0.996016\n",
      "Name: count, dtype: float64\n",
      "hotwater\n",
      "---\n",
      " hotwater\n",
      "Yes    0.059761\n",
      "Name: count, dtype: float64\n",
      "water\n",
      "---\n",
      " water\n",
      "Yes    0.063745\n",
      "Name: count, dtype: float64\n",
      "gas\n",
      "---\n",
      " gas\n",
      "Yes    0.545817\n",
      "Name: count, dtype: float64\n",
      "industry\n",
      "---\n",
      " industry\n",
      "Education      0.649402\n",
      "Government     0.318725\n",
      "Healthcare     0.023904\n",
      "Hospitality    0.007968\n",
      "Name: count, dtype: float64\n"
     ]
    }
   ],
   "source": [
    "for c in metadata.columns:\n",
    "    if len(metadata[c].unique())<5:\n",
    "        print(c)\n",
    "        print(\"---\\n\", metadata[c].value_counts() / metadata.shape[0])"
   ]
  },
  {
   "cell_type": "markdown",
   "metadata": {},
   "source": [
    "Columns that only have two values can be considered True / False columns (also called for boolean data). The easiest way to encode this data is to assign 1 and 0 values to the corresponding entries in these columns.\n",
    "\n",
    "It can be done in the following ways:"
   ]
  },
  {
   "cell_type": "code",
   "execution_count": 34,
   "metadata": {},
   "outputs": [
    {
     "data": {
      "text/plain": [
       "array([1, 1, 1, 1, 1, 1, 1, 1, 1, 1, 1, 1, 1, 1, 1, 1, 1, 1, 1, 1, 1, 1,\n",
       "       1, 1, 1, 1, 1, 1, 1, 1, 1, 1, 1, 1, 1, 1, 1, 1, 1, 1, 1, 1, 1, 1,\n",
       "       1, 1, 1, 1, 1, 1, 1, 1, 1, 1, 1, 1, 1, 1, 1, 1, 1, 1, 1, 1, 1, 1,\n",
       "       1, 1, 1, 1, 1, 1, 1, 1, 1, 1, 1, 1, 1, 1, 1, 1, 1, 1, 1, 1, 1, 1,\n",
       "       1, 1, 1, 1, 1, 1, 1, 1, 1, 1, 1, 1, 1, 1, 1, 1, 1, 1, 1, 1, 1, 1,\n",
       "       1, 1, 1, 1, 1, 1, 1, 1, 1, 1, 1, 1, 1, 1, 1, 1, 1, 1, 1, 1, 1, 1,\n",
       "       1, 1, 1, 1, 1, 1, 1, 1, 1, 1, 1, 1, 1, 1, 1, 1, 1, 1, 1, 1, 1, 1,\n",
       "       1, 1, 1, 1, 1, 1, 1, 1, 1, 1, 1, 1, 1, 1, 1, 1, 1, 1, 1, 1, 1, 1,\n",
       "       1, 1, 1, 1, 1, 1, 1, 1, 1, 1, 1, 1, 1, 1, 1, 1, 1, 1, 1, 1, 1, 1,\n",
       "       1, 1, 1, 1, 1, 1, 1, 1, 1, 1, 1, 1, 1, 1, 0, 1, 1, 0, 0, 1, 1, 0,\n",
       "       0, 1, 1, 1, 0, 0, 0, 0, 1, 1, 1, 1, 1, 1, 0, 0, 0, 1, 0, 0, 1, 1,\n",
       "       0, 0, 1, 1, 1, 1, 1, 1, 1])"
      ]
     },
     "execution_count": 34,
     "metadata": {},
     "output_type": "execute_result"
    }
   ],
   "source": [
    "from sklearn.preprocessing import LabelEncoder\n",
    "le = LabelEncoder()\n",
    "le.fit_transform(metadata[\"water\"])"
   ]
  },
  {
   "cell_type": "markdown",
   "metadata": {},
   "source": [
    "We see that \"yes\" values have been transformed to 0, which might get confusing in the future. Remeber, that 0 == False and 1==True\n",
    "Let's rewrite it and assign the values to metadata[\"water\"]"
   ]
  },
  {
   "cell_type": "code",
   "execution_count": 35,
   "metadata": {},
   "outputs": [
    {
     "data": {
      "text/plain": [
       "array([0, 0, 0, 0, 0, 0, 0, 0, 0, 0, 0, 0, 0, 0, 0, 0, 0, 0, 0, 0, 0, 0,\n",
       "       0, 0, 0, 0, 0, 0, 0, 0, 0, 0, 0, 0, 0, 0, 0, 0, 0, 0, 0, 0, 0, 0,\n",
       "       0, 0, 0, 0, 0, 0, 0, 0, 0, 0, 0, 0, 0, 0, 0, 0, 0, 0, 0, 0, 0, 0,\n",
       "       0, 0, 0, 0, 0, 0, 0, 0, 0, 0, 0, 0, 0, 0, 0, 0, 0, 0, 0, 0, 0, 0,\n",
       "       0, 0, 0, 0, 0, 0, 0, 0, 0, 0, 0, 0, 0, 0, 0, 0, 0, 0, 0, 0, 0, 0,\n",
       "       0, 0, 0, 0, 0, 0, 0, 0, 0, 0, 0, 0, 0, 0, 0, 0, 0, 0, 0, 0, 0, 0,\n",
       "       0, 0, 0, 0, 0, 0, 0, 0, 0, 0, 0, 0, 0, 0, 0, 0, 0, 0, 0, 0, 0, 0,\n",
       "       0, 0, 0, 0, 0, 0, 0, 0, 0, 0, 0, 0, 0, 0, 0, 0, 0, 0, 0, 0, 0, 0,\n",
       "       0, 0, 0, 0, 0, 0, 0, 0, 0, 0, 0, 0, 0, 0, 0, 0, 0, 0, 0, 0, 0, 0,\n",
       "       0, 0, 0, 0, 0, 0, 0, 0, 0, 0, 0, 0, 0, 0, 1, 0, 0, 1, 1, 0, 0, 1,\n",
       "       1, 0, 0, 0, 1, 1, 1, 1, 0, 0, 0, 0, 0, 0, 1, 1, 1, 0, 1, 1, 0, 0,\n",
       "       1, 1, 0, 0, 0, 0, 0, 0, 0])"
      ]
     },
     "execution_count": 35,
     "metadata": {},
     "output_type": "execute_result"
    }
   ],
   "source": [
    "res = le.fit_transform(metadata[\"water\"])\n",
    "1 - res  # now it's reverse, exactly as we wanted it to be"
   ]
  },
  {
   "cell_type": "markdown",
   "metadata": {},
   "source": [
    "##### 🎲 Another way to write it:"
   ]
  },
  {
   "cell_type": "code",
   "execution_count": 36,
   "metadata": {},
   "outputs": [
    {
     "data": {
      "text/plain": [
       "136     False\n",
       "137     False\n",
       "138     False\n",
       "139     False\n",
       "140     False\n",
       "        ...  \n",
       "1631    False\n",
       "1632    False\n",
       "1633    False\n",
       "1634    False\n",
       "1635    False\n",
       "Name: water, Length: 251, dtype: bool"
      ]
     },
     "execution_count": 36,
     "metadata": {},
     "output_type": "execute_result"
    }
   ],
   "source": [
    "metadata[\"water\"]==\"Yes\" # print the output of metadata[\"water\"]==\"Yes\" to understand how it works"
   ]
  },
  {
   "cell_type": "markdown",
   "metadata": {},
   "source": [
    "##### Assigning values to metadata[\"water\"] :"
   ]
  },
  {
   "cell_type": "code",
   "execution_count": 37,
   "metadata": {},
   "outputs": [],
   "source": [
    "metadata[\"water\"] = 1 - res\n",
    "# metadata[\"water\"] = metadata[\"water\"]==\"Yes\" # an alternative way"
   ]
  },
  {
   "cell_type": "markdown",
   "metadata": {},
   "source": [
    "#### 🧩 Task II - Encoding categorical columns"
   ]
  },
  {
   "cell_type": "markdown",
   "metadata": {},
   "source": [
    "Encode the rest of the categorical columns (both the binary and multicategorical). What columns would you use? Tips: even numerical values can sometimes be categorical 😉"
   ]
  },
  {
   "cell_type": "code",
   "execution_count": null,
   "metadata": {},
   "outputs": [],
   "source": [
    "categorical_columns = # your code here\n",
    "\n",
    "### Your code here"
   ]
  },
  {
   "cell_type": "code",
   "execution_count": 41,
   "metadata": {},
   "outputs": [
    {
     "data": {
      "text/html": [
       "<div>\n",
       "<style scoped>\n",
       "    .dataframe tbody tr th:only-of-type {\n",
       "        vertical-align: middle;\n",
       "    }\n",
       "\n",
       "    .dataframe tbody tr th {\n",
       "        vertical-align: top;\n",
       "    }\n",
       "\n",
       "    .dataframe thead th {\n",
       "        text-align: right;\n",
       "    }\n",
       "</style>\n",
       "<table border=\"1\" class=\"dataframe\">\n",
       "  <thead>\n",
       "    <tr style=\"text-align: right;\">\n",
       "      <th></th>\n",
       "      <th>building_id</th>\n",
       "      <th>site_id</th>\n",
       "      <th>primaryspaceusage</th>\n",
       "      <th>sub_primaryspaceusage</th>\n",
       "      <th>sqm</th>\n",
       "      <th>sqft</th>\n",
       "      <th>lat</th>\n",
       "      <th>lng</th>\n",
       "      <th>timezone</th>\n",
       "      <th>electricity</th>\n",
       "      <th>hotwater</th>\n",
       "      <th>water</th>\n",
       "      <th>gas</th>\n",
       "      <th>industry</th>\n",
       "      <th>subindustry</th>\n",
       "      <th>heatingtype</th>\n",
       "      <th>yearbuilt</th>\n",
       "      <th>numberoffloors</th>\n",
       "      <th>occupants</th>\n",
       "      <th>rating</th>\n",
       "    </tr>\n",
       "  </thead>\n",
       "  <tbody>\n",
       "    <tr>\n",
       "      <th>136</th>\n",
       "      <td>432</td>\n",
       "      <td>3</td>\n",
       "      <td>0</td>\n",
       "      <td>2</td>\n",
       "      <td>4703.0</td>\n",
       "      <td>50623.0</td>\n",
       "      <td>2</td>\n",
       "      <td>1</td>\n",
       "      <td>1</td>\n",
       "      <td>0</td>\n",
       "      <td>1</td>\n",
       "      <td>0</td>\n",
       "      <td>1</td>\n",
       "      <td>0</td>\n",
       "      <td>2</td>\n",
       "      <td>11</td>\n",
       "      <td>NaN</td>\n",
       "      <td>5.0</td>\n",
       "      <td>NaN</td>\n",
       "      <td>8</td>\n",
       "    </tr>\n",
       "    <tr>\n",
       "      <th>137</th>\n",
       "      <td>416</td>\n",
       "      <td>3</td>\n",
       "      <td>0</td>\n",
       "      <td>2</td>\n",
       "      <td>499.3</td>\n",
       "      <td>5374.0</td>\n",
       "      <td>2</td>\n",
       "      <td>1</td>\n",
       "      <td>1</td>\n",
       "      <td>0</td>\n",
       "      <td>0</td>\n",
       "      <td>0</td>\n",
       "      <td>1</td>\n",
       "      <td>0</td>\n",
       "      <td>2</td>\n",
       "      <td>7</td>\n",
       "      <td>NaN</td>\n",
       "      <td>4.0</td>\n",
       "      <td>NaN</td>\n",
       "      <td>9</td>\n",
       "    </tr>\n",
       "    <tr>\n",
       "      <th>138</th>\n",
       "      <td>436</td>\n",
       "      <td>3</td>\n",
       "      <td>0</td>\n",
       "      <td>2</td>\n",
       "      <td>9061.0</td>\n",
       "      <td>97532.0</td>\n",
       "      <td>2</td>\n",
       "      <td>1</td>\n",
       "      <td>1</td>\n",
       "      <td>0</td>\n",
       "      <td>1</td>\n",
       "      <td>0</td>\n",
       "      <td>1</td>\n",
       "      <td>0</td>\n",
       "      <td>2</td>\n",
       "      <td>7</td>\n",
       "      <td>2005.0</td>\n",
       "      <td>10.0</td>\n",
       "      <td>NaN</td>\n",
       "      <td>7</td>\n",
       "    </tr>\n",
       "    <tr>\n",
       "      <th>139</th>\n",
       "      <td>441</td>\n",
       "      <td>3</td>\n",
       "      <td>0</td>\n",
       "      <td>3</td>\n",
       "      <td>7579.0</td>\n",
       "      <td>81580.0</td>\n",
       "      <td>2</td>\n",
       "      <td>1</td>\n",
       "      <td>1</td>\n",
       "      <td>0</td>\n",
       "      <td>1</td>\n",
       "      <td>0</td>\n",
       "      <td>1</td>\n",
       "      <td>0</td>\n",
       "      <td>2</td>\n",
       "      <td>7</td>\n",
       "      <td>1913.0</td>\n",
       "      <td>5.0</td>\n",
       "      <td>NaN</td>\n",
       "      <td>9</td>\n",
       "    </tr>\n",
       "    <tr>\n",
       "      <th>140</th>\n",
       "      <td>442</td>\n",
       "      <td>3</td>\n",
       "      <td>0</td>\n",
       "      <td>3</td>\n",
       "      <td>5295.0</td>\n",
       "      <td>56995.0</td>\n",
       "      <td>2</td>\n",
       "      <td>1</td>\n",
       "      <td>1</td>\n",
       "      <td>0</td>\n",
       "      <td>0</td>\n",
       "      <td>0</td>\n",
       "      <td>1</td>\n",
       "      <td>0</td>\n",
       "      <td>2</td>\n",
       "      <td>7</td>\n",
       "      <td>1953.0</td>\n",
       "      <td>6.0</td>\n",
       "      <td>NaN</td>\n",
       "      <td>8</td>\n",
       "    </tr>\n",
       "  </tbody>\n",
       "</table>\n",
       "</div>"
      ],
      "text/plain": [
       "     building_id  site_id  primaryspaceusage  sub_primaryspaceusage     sqm  \\\n",
       "136          432        3                  0                      2  4703.0   \n",
       "137          416        3                  0                      2   499.3   \n",
       "138          436        3                  0                      2  9061.0   \n",
       "139          441        3                  0                      3  7579.0   \n",
       "140          442        3                  0                      3  5295.0   \n",
       "\n",
       "        sqft  lat  lng  timezone  electricity  hotwater  water  gas  industry  \\\n",
       "136  50623.0    2    1         1            0         1      0    1         0   \n",
       "137   5374.0    2    1         1            0         0      0    1         0   \n",
       "138  97532.0    2    1         1            0         1      0    1         0   \n",
       "139  81580.0    2    1         1            0         1      0    1         0   \n",
       "140  56995.0    2    1         1            0         0      0    1         0   \n",
       "\n",
       "     subindustry  heatingtype  yearbuilt  numberoffloors  occupants  rating  \n",
       "136            2           11        NaN             5.0        NaN       8  \n",
       "137            2            7        NaN             4.0        NaN       9  \n",
       "138            2            7     2005.0            10.0        NaN       7  \n",
       "139            2            7     1913.0             5.0        NaN       9  \n",
       "140            2            7     1953.0             6.0        NaN       8  "
      ]
     },
     "execution_count": 41,
     "metadata": {},
     "output_type": "execute_result"
    }
   ],
   "source": [
    "metadata.head()"
   ]
  },
  {
   "cell_type": "markdown",
   "metadata": {},
   "source": [
    "#### ⚙️ Solution"
   ]
  },
  {
   "cell_type": "code",
   "execution_count": 40,
   "metadata": {},
   "outputs": [],
   "source": [
    "label_dict = {}  # optional, to be able to come back to the original labels\n",
    "categorical_columns = [ \"site_id\", \"primaryspaceusage\", \"sub_primaryspaceusage\", \n",
    "                       \"lat\", \"lng\",\n",
    "                       \"timezone\", \"electricity\", \"hotwater\",  \"gas\", \"industry\", \n",
    "                       \"subindustry\", \"heatingtype\", \"rating\"]\n",
    "yes_no_columns = [\"gas\", \"hotwater\"]\n",
    "\n",
    "for c in categorical_columns:\n",
    "    le = LabelEncoder()\n",
    "    res = le.fit_transform(metadata[c])\n",
    "    if c in yes_no_columns:\n",
    "        res = 1-res  # make sure Yes becomes 1\n",
    "    label_dict[c] = le\n",
    "    metadata[c] = res"
   ]
  },
  {
   "cell_type": "markdown",
   "metadata": {},
   "source": [
    "### Duplicate features"
   ]
  },
  {
   "cell_type": "markdown",
   "metadata": {},
   "source": [
    "![duplicate features illustration](https://cdn.artphotolimited.com/images/64a3eedabd40b89aa05483f5/300x300/agent-smith-clones.jpg)"
   ]
  },
  {
   "cell_type": "markdown",
   "metadata": {},
   "source": [
    "Looking at correlation between all the columns:"
   ]
  },
  {
   "cell_type": "code",
   "execution_count": 42,
   "metadata": {},
   "outputs": [
    {
     "data": {
      "text/html": [
       "<div>\n",
       "<style scoped>\n",
       "    .dataframe tbody tr th:only-of-type {\n",
       "        vertical-align: middle;\n",
       "    }\n",
       "\n",
       "    .dataframe tbody tr th {\n",
       "        vertical-align: top;\n",
       "    }\n",
       "\n",
       "    .dataframe thead th {\n",
       "        text-align: right;\n",
       "    }\n",
       "</style>\n",
       "<table border=\"1\" class=\"dataframe\">\n",
       "  <thead>\n",
       "    <tr style=\"text-align: right;\">\n",
       "      <th></th>\n",
       "      <th>building_id</th>\n",
       "      <th>site_id</th>\n",
       "      <th>primaryspaceusage</th>\n",
       "      <th>sub_primaryspaceusage</th>\n",
       "      <th>sqm</th>\n",
       "      <th>sqft</th>\n",
       "      <th>lat</th>\n",
       "      <th>lng</th>\n",
       "      <th>timezone</th>\n",
       "      <th>electricity</th>\n",
       "      <th>hotwater</th>\n",
       "      <th>water</th>\n",
       "      <th>gas</th>\n",
       "      <th>industry</th>\n",
       "      <th>subindustry</th>\n",
       "      <th>heatingtype</th>\n",
       "      <th>yearbuilt</th>\n",
       "      <th>numberoffloors</th>\n",
       "      <th>occupants</th>\n",
       "      <th>rating</th>\n",
       "    </tr>\n",
       "  </thead>\n",
       "  <tbody>\n",
       "    <tr>\n",
       "      <th>building_id</th>\n",
       "      <td>1.000000</td>\n",
       "      <td>0.777420</td>\n",
       "      <td>0.487522</td>\n",
       "      <td>-0.206625</td>\n",
       "      <td>0.312475</td>\n",
       "      <td>0.312475</td>\n",
       "      <td>0.828417</td>\n",
       "      <td>0.779019</td>\n",
       "      <td>-0.595416</td>\n",
       "      <td>-0.003282</td>\n",
       "      <td>-0.187493</td>\n",
       "      <td>0.374803</td>\n",
       "      <td>0.553022</td>\n",
       "      <td>-0.222546</td>\n",
       "      <td>-0.780666</td>\n",
       "      <td>0.622615</td>\n",
       "      <td>-0.072478</td>\n",
       "      <td>0.588559</td>\n",
       "      <td>-0.063499</td>\n",
       "      <td>0.516624</td>\n",
       "    </tr>\n",
       "    <tr>\n",
       "      <th>site_id</th>\n",
       "      <td>0.777420</td>\n",
       "      <td>1.000000</td>\n",
       "      <td>0.287936</td>\n",
       "      <td>-0.351996</td>\n",
       "      <td>0.323068</td>\n",
       "      <td>0.323067</td>\n",
       "      <td>0.702780</td>\n",
       "      <td>0.580064</td>\n",
       "      <td>-0.275087</td>\n",
       "      <td>-0.049880</td>\n",
       "      <td>-0.353641</td>\n",
       "      <td>0.175414</td>\n",
       "      <td>0.607395</td>\n",
       "      <td>-0.276156</td>\n",
       "      <td>-0.614748</td>\n",
       "      <td>0.397104</td>\n",
       "      <td>-0.094066</td>\n",
       "      <td>0.779264</td>\n",
       "      <td>-0.005716</td>\n",
       "      <td>0.363608</td>\n",
       "    </tr>\n",
       "    <tr>\n",
       "      <th>primaryspaceusage</th>\n",
       "      <td>0.487522</td>\n",
       "      <td>0.287936</td>\n",
       "      <td>1.000000</td>\n",
       "      <td>0.172577</td>\n",
       "      <td>-0.008666</td>\n",
       "      <td>-0.008667</td>\n",
       "      <td>0.195927</td>\n",
       "      <td>0.199328</td>\n",
       "      <td>-0.065445</td>\n",
       "      <td>0.078734</td>\n",
       "      <td>-0.028428</td>\n",
       "      <td>0.003575</td>\n",
       "      <td>0.363764</td>\n",
       "      <td>0.323773</td>\n",
       "      <td>-0.441527</td>\n",
       "      <td>0.065072</td>\n",
       "      <td>-0.087075</td>\n",
       "      <td>0.273627</td>\n",
       "      <td>-0.232932</td>\n",
       "      <td>0.299572</td>\n",
       "    </tr>\n",
       "    <tr>\n",
       "      <th>sub_primaryspaceusage</th>\n",
       "      <td>-0.206625</td>\n",
       "      <td>-0.351996</td>\n",
       "      <td>0.172577</td>\n",
       "      <td>1.000000</td>\n",
       "      <td>-0.162133</td>\n",
       "      <td>-0.162133</td>\n",
       "      <td>-0.419675</td>\n",
       "      <td>-0.333291</td>\n",
       "      <td>0.262133</td>\n",
       "      <td>0.037596</td>\n",
       "      <td>0.175639</td>\n",
       "      <td>-0.151832</td>\n",
       "      <td>-0.247868</td>\n",
       "      <td>-0.074188</td>\n",
       "      <td>0.314158</td>\n",
       "      <td>-0.301946</td>\n",
       "      <td>-0.167929</td>\n",
       "      <td>-0.269851</td>\n",
       "      <td>0.311069</td>\n",
       "      <td>-0.235667</td>\n",
       "    </tr>\n",
       "    <tr>\n",
       "      <th>sqm</th>\n",
       "      <td>0.312475</td>\n",
       "      <td>0.323068</td>\n",
       "      <td>-0.008666</td>\n",
       "      <td>-0.162133</td>\n",
       "      <td>1.000000</td>\n",
       "      <td>1.000000</td>\n",
       "      <td>0.332188</td>\n",
       "      <td>0.338751</td>\n",
       "      <td>-0.201420</td>\n",
       "      <td>-0.055822</td>\n",
       "      <td>-0.102642</td>\n",
       "      <td>0.109105</td>\n",
       "      <td>0.103342</td>\n",
       "      <td>-0.058156</td>\n",
       "      <td>-0.227132</td>\n",
       "      <td>0.167083</td>\n",
       "      <td>0.047399</td>\n",
       "      <td>0.562444</td>\n",
       "      <td>0.723591</td>\n",
       "      <td>0.045534</td>\n",
       "    </tr>\n",
       "    <tr>\n",
       "      <th>sqft</th>\n",
       "      <td>0.312475</td>\n",
       "      <td>0.323067</td>\n",
       "      <td>-0.008667</td>\n",
       "      <td>-0.162133</td>\n",
       "      <td>1.000000</td>\n",
       "      <td>1.000000</td>\n",
       "      <td>0.332187</td>\n",
       "      <td>0.338750</td>\n",
       "      <td>-0.201419</td>\n",
       "      <td>-0.055822</td>\n",
       "      <td>-0.102642</td>\n",
       "      <td>0.109105</td>\n",
       "      <td>0.103341</td>\n",
       "      <td>-0.058156</td>\n",
       "      <td>-0.227132</td>\n",
       "      <td>0.167082</td>\n",
       "      <td>0.047399</td>\n",
       "      <td>0.562443</td>\n",
       "      <td>0.723591</td>\n",
       "      <td>0.045533</td>\n",
       "    </tr>\n",
       "    <tr>\n",
       "      <th>lat</th>\n",
       "      <td>0.828417</td>\n",
       "      <td>0.702780</td>\n",
       "      <td>0.195927</td>\n",
       "      <td>-0.419675</td>\n",
       "      <td>0.332188</td>\n",
       "      <td>0.332187</td>\n",
       "      <td>1.000000</td>\n",
       "      <td>0.949888</td>\n",
       "      <td>-0.800947</td>\n",
       "      <td>-0.047403</td>\n",
       "      <td>-0.152255</td>\n",
       "      <td>0.510737</td>\n",
       "      <td>0.496753</td>\n",
       "      <td>-0.254591</td>\n",
       "      <td>-0.685099</td>\n",
       "      <td>0.772017</td>\n",
       "      <td>0.044533</td>\n",
       "      <td>0.597576</td>\n",
       "      <td>-0.005716</td>\n",
       "      <td>0.498367</td>\n",
       "    </tr>\n",
       "    <tr>\n",
       "      <th>lng</th>\n",
       "      <td>0.779019</td>\n",
       "      <td>0.580064</td>\n",
       "      <td>0.199328</td>\n",
       "      <td>-0.333291</td>\n",
       "      <td>0.338751</td>\n",
       "      <td>0.338750</td>\n",
       "      <td>0.949888</td>\n",
       "      <td>1.000000</td>\n",
       "      <td>-0.882117</td>\n",
       "      <td>-0.041664</td>\n",
       "      <td>-0.011308</td>\n",
       "      <td>0.562497</td>\n",
       "      <td>0.361840</td>\n",
       "      <td>-0.139550</td>\n",
       "      <td>-0.552647</td>\n",
       "      <td>0.784895</td>\n",
       "      <td>0.003074</td>\n",
       "      <td>0.492774</td>\n",
       "      <td>-0.005716</td>\n",
       "      <td>0.489675</td>\n",
       "    </tr>\n",
       "    <tr>\n",
       "      <th>timezone</th>\n",
       "      <td>-0.595416</td>\n",
       "      <td>-0.275087</td>\n",
       "      <td>-0.065445</td>\n",
       "      <td>0.262133</td>\n",
       "      <td>-0.201420</td>\n",
       "      <td>-0.201419</td>\n",
       "      <td>-0.800947</td>\n",
       "      <td>-0.882117</td>\n",
       "      <td>1.000000</td>\n",
       "      <td>0.025880</td>\n",
       "      <td>-0.103162</td>\n",
       "      <td>-0.637667</td>\n",
       "      <td>-0.128971</td>\n",
       "      <td>0.276607</td>\n",
       "      <td>0.408475</td>\n",
       "      <td>-0.900492</td>\n",
       "      <td>NaN</td>\n",
       "      <td>0.064094</td>\n",
       "      <td>NaN</td>\n",
       "      <td>-0.416989</td>\n",
       "    </tr>\n",
       "    <tr>\n",
       "      <th>electricity</th>\n",
       "      <td>-0.003282</td>\n",
       "      <td>-0.049880</td>\n",
       "      <td>0.078734</td>\n",
       "      <td>0.037596</td>\n",
       "      <td>-0.055822</td>\n",
       "      <td>-0.055822</td>\n",
       "      <td>-0.047403</td>\n",
       "      <td>-0.041664</td>\n",
       "      <td>0.025880</td>\n",
       "      <td>1.000000</td>\n",
       "      <td>0.015945</td>\n",
       "      <td>-0.016503</td>\n",
       "      <td>-0.057693</td>\n",
       "      <td>0.066746</td>\n",
       "      <td>-0.082868</td>\n",
       "      <td>-0.028542</td>\n",
       "      <td>0.042167</td>\n",
       "      <td>-0.062176</td>\n",
       "      <td>-0.088121</td>\n",
       "      <td>-0.039365</td>\n",
       "    </tr>\n",
       "    <tr>\n",
       "      <th>hotwater</th>\n",
       "      <td>-0.187493</td>\n",
       "      <td>-0.353641</td>\n",
       "      <td>-0.028428</td>\n",
       "      <td>0.175639</td>\n",
       "      <td>-0.102642</td>\n",
       "      <td>-0.102642</td>\n",
       "      <td>-0.152255</td>\n",
       "      <td>-0.011308</td>\n",
       "      <td>-0.103162</td>\n",
       "      <td>0.015945</td>\n",
       "      <td>1.000000</td>\n",
       "      <td>0.065783</td>\n",
       "      <td>-0.276374</td>\n",
       "      <td>0.170420</td>\n",
       "      <td>0.251665</td>\n",
       "      <td>-0.083613</td>\n",
       "      <td>-0.005377</td>\n",
       "      <td>-0.319871</td>\n",
       "      <td>NaN</td>\n",
       "      <td>-0.029306</td>\n",
       "    </tr>\n",
       "    <tr>\n",
       "      <th>water</th>\n",
       "      <td>0.374803</td>\n",
       "      <td>0.175414</td>\n",
       "      <td>0.003575</td>\n",
       "      <td>-0.151832</td>\n",
       "      <td>0.109105</td>\n",
       "      <td>0.109105</td>\n",
       "      <td>0.510737</td>\n",
       "      <td>0.562497</td>\n",
       "      <td>-0.637667</td>\n",
       "      <td>-0.016503</td>\n",
       "      <td>0.065783</td>\n",
       "      <td>1.000000</td>\n",
       "      <td>-0.008743</td>\n",
       "      <td>-0.176383</td>\n",
       "      <td>-0.260471</td>\n",
       "      <td>0.574214</td>\n",
       "      <td>NaN</td>\n",
       "      <td>-0.066868</td>\n",
       "      <td>NaN</td>\n",
       "      <td>0.283300</td>\n",
       "    </tr>\n",
       "    <tr>\n",
       "      <th>gas</th>\n",
       "      <td>0.553022</td>\n",
       "      <td>0.607395</td>\n",
       "      <td>0.363764</td>\n",
       "      <td>-0.247868</td>\n",
       "      <td>0.103342</td>\n",
       "      <td>0.103341</td>\n",
       "      <td>0.496753</td>\n",
       "      <td>0.361840</td>\n",
       "      <td>-0.128971</td>\n",
       "      <td>-0.057693</td>\n",
       "      <td>-0.276374</td>\n",
       "      <td>-0.008743</td>\n",
       "      <td>1.000000</td>\n",
       "      <td>-0.034772</td>\n",
       "      <td>-0.563545</td>\n",
       "      <td>0.197649</td>\n",
       "      <td>0.067697</td>\n",
       "      <td>0.525517</td>\n",
       "      <td>-0.157556</td>\n",
       "      <td>0.398610</td>\n",
       "    </tr>\n",
       "    <tr>\n",
       "      <th>industry</th>\n",
       "      <td>-0.222546</td>\n",
       "      <td>-0.276156</td>\n",
       "      <td>0.323773</td>\n",
       "      <td>-0.074188</td>\n",
       "      <td>-0.058156</td>\n",
       "      <td>-0.058156</td>\n",
       "      <td>-0.254591</td>\n",
       "      <td>-0.139550</td>\n",
       "      <td>0.276607</td>\n",
       "      <td>0.066746</td>\n",
       "      <td>0.170420</td>\n",
       "      <td>-0.176383</td>\n",
       "      <td>-0.034772</td>\n",
       "      <td>1.000000</td>\n",
       "      <td>0.132317</td>\n",
       "      <td>-0.386073</td>\n",
       "      <td>0.072803</td>\n",
       "      <td>-0.012834</td>\n",
       "      <td>-0.263274</td>\n",
       "      <td>-0.018228</td>\n",
       "    </tr>\n",
       "    <tr>\n",
       "      <th>subindustry</th>\n",
       "      <td>-0.780666</td>\n",
       "      <td>-0.614748</td>\n",
       "      <td>-0.441527</td>\n",
       "      <td>0.314158</td>\n",
       "      <td>-0.227132</td>\n",
       "      <td>-0.227132</td>\n",
       "      <td>-0.685099</td>\n",
       "      <td>-0.552647</td>\n",
       "      <td>0.408475</td>\n",
       "      <td>-0.082868</td>\n",
       "      <td>0.251665</td>\n",
       "      <td>-0.260471</td>\n",
       "      <td>-0.563545</td>\n",
       "      <td>0.132317</td>\n",
       "      <td>1.000000</td>\n",
       "      <td>-0.482997</td>\n",
       "      <td>0.015982</td>\n",
       "      <td>-0.465798</td>\n",
       "      <td>0.114232</td>\n",
       "      <td>-0.477610</td>\n",
       "    </tr>\n",
       "    <tr>\n",
       "      <th>heatingtype</th>\n",
       "      <td>0.622615</td>\n",
       "      <td>0.397104</td>\n",
       "      <td>0.065072</td>\n",
       "      <td>-0.301946</td>\n",
       "      <td>0.167083</td>\n",
       "      <td>0.167082</td>\n",
       "      <td>0.772017</td>\n",
       "      <td>0.784895</td>\n",
       "      <td>-0.900492</td>\n",
       "      <td>-0.028542</td>\n",
       "      <td>-0.083613</td>\n",
       "      <td>0.574214</td>\n",
       "      <td>0.197649</td>\n",
       "      <td>-0.386073</td>\n",
       "      <td>-0.482997</td>\n",
       "      <td>1.000000</td>\n",
       "      <td>-0.116381</td>\n",
       "      <td>0.040162</td>\n",
       "      <td>-0.213286</td>\n",
       "      <td>0.382468</td>\n",
       "    </tr>\n",
       "    <tr>\n",
       "      <th>yearbuilt</th>\n",
       "      <td>-0.072478</td>\n",
       "      <td>-0.094066</td>\n",
       "      <td>-0.087075</td>\n",
       "      <td>-0.167929</td>\n",
       "      <td>0.047399</td>\n",
       "      <td>0.047399</td>\n",
       "      <td>0.044533</td>\n",
       "      <td>0.003074</td>\n",
       "      <td>NaN</td>\n",
       "      <td>0.042167</td>\n",
       "      <td>-0.005377</td>\n",
       "      <td>NaN</td>\n",
       "      <td>0.067697</td>\n",
       "      <td>0.072803</td>\n",
       "      <td>0.015982</td>\n",
       "      <td>-0.116381</td>\n",
       "      <td>1.000000</td>\n",
       "      <td>-0.063485</td>\n",
       "      <td>0.052983</td>\n",
       "      <td>0.027528</td>\n",
       "    </tr>\n",
       "    <tr>\n",
       "      <th>numberoffloors</th>\n",
       "      <td>0.588559</td>\n",
       "      <td>0.779264</td>\n",
       "      <td>0.273627</td>\n",
       "      <td>-0.269851</td>\n",
       "      <td>0.562444</td>\n",
       "      <td>0.562443</td>\n",
       "      <td>0.597576</td>\n",
       "      <td>0.492774</td>\n",
       "      <td>0.064094</td>\n",
       "      <td>-0.062176</td>\n",
       "      <td>-0.319871</td>\n",
       "      <td>-0.066868</td>\n",
       "      <td>0.525517</td>\n",
       "      <td>-0.012834</td>\n",
       "      <td>-0.465798</td>\n",
       "      <td>0.040162</td>\n",
       "      <td>-0.063485</td>\n",
       "      <td>1.000000</td>\n",
       "      <td>0.253014</td>\n",
       "      <td>0.199635</td>\n",
       "    </tr>\n",
       "    <tr>\n",
       "      <th>occupants</th>\n",
       "      <td>-0.063499</td>\n",
       "      <td>-0.005716</td>\n",
       "      <td>-0.232932</td>\n",
       "      <td>0.311069</td>\n",
       "      <td>0.723591</td>\n",
       "      <td>0.723591</td>\n",
       "      <td>-0.005716</td>\n",
       "      <td>-0.005716</td>\n",
       "      <td>NaN</td>\n",
       "      <td>-0.088121</td>\n",
       "      <td>NaN</td>\n",
       "      <td>NaN</td>\n",
       "      <td>-0.157556</td>\n",
       "      <td>-0.263274</td>\n",
       "      <td>0.114232</td>\n",
       "      <td>-0.213286</td>\n",
       "      <td>0.052983</td>\n",
       "      <td>0.253014</td>\n",
       "      <td>1.000000</td>\n",
       "      <td>-0.160794</td>\n",
       "    </tr>\n",
       "    <tr>\n",
       "      <th>rating</th>\n",
       "      <td>0.516624</td>\n",
       "      <td>0.363608</td>\n",
       "      <td>0.299572</td>\n",
       "      <td>-0.235667</td>\n",
       "      <td>0.045534</td>\n",
       "      <td>0.045533</td>\n",
       "      <td>0.498367</td>\n",
       "      <td>0.489675</td>\n",
       "      <td>-0.416989</td>\n",
       "      <td>-0.039365</td>\n",
       "      <td>-0.029306</td>\n",
       "      <td>0.283300</td>\n",
       "      <td>0.398610</td>\n",
       "      <td>-0.018228</td>\n",
       "      <td>-0.477610</td>\n",
       "      <td>0.382468</td>\n",
       "      <td>0.027528</td>\n",
       "      <td>0.199635</td>\n",
       "      <td>-0.160794</td>\n",
       "      <td>1.000000</td>\n",
       "    </tr>\n",
       "  </tbody>\n",
       "</table>\n",
       "</div>"
      ],
      "text/plain": [
       "                       building_id   site_id  primaryspaceusage  \\\n",
       "building_id               1.000000  0.777420           0.487522   \n",
       "site_id                   0.777420  1.000000           0.287936   \n",
       "primaryspaceusage         0.487522  0.287936           1.000000   \n",
       "sub_primaryspaceusage    -0.206625 -0.351996           0.172577   \n",
       "sqm                       0.312475  0.323068          -0.008666   \n",
       "sqft                      0.312475  0.323067          -0.008667   \n",
       "lat                       0.828417  0.702780           0.195927   \n",
       "lng                       0.779019  0.580064           0.199328   \n",
       "timezone                 -0.595416 -0.275087          -0.065445   \n",
       "electricity              -0.003282 -0.049880           0.078734   \n",
       "hotwater                 -0.187493 -0.353641          -0.028428   \n",
       "water                     0.374803  0.175414           0.003575   \n",
       "gas                       0.553022  0.607395           0.363764   \n",
       "industry                 -0.222546 -0.276156           0.323773   \n",
       "subindustry              -0.780666 -0.614748          -0.441527   \n",
       "heatingtype               0.622615  0.397104           0.065072   \n",
       "yearbuilt                -0.072478 -0.094066          -0.087075   \n",
       "numberoffloors            0.588559  0.779264           0.273627   \n",
       "occupants                -0.063499 -0.005716          -0.232932   \n",
       "rating                    0.516624  0.363608           0.299572   \n",
       "\n",
       "                       sub_primaryspaceusage       sqm      sqft       lat  \\\n",
       "building_id                        -0.206625  0.312475  0.312475  0.828417   \n",
       "site_id                            -0.351996  0.323068  0.323067  0.702780   \n",
       "primaryspaceusage                   0.172577 -0.008666 -0.008667  0.195927   \n",
       "sub_primaryspaceusage               1.000000 -0.162133 -0.162133 -0.419675   \n",
       "sqm                                -0.162133  1.000000  1.000000  0.332188   \n",
       "sqft                               -0.162133  1.000000  1.000000  0.332187   \n",
       "lat                                -0.419675  0.332188  0.332187  1.000000   \n",
       "lng                                -0.333291  0.338751  0.338750  0.949888   \n",
       "timezone                            0.262133 -0.201420 -0.201419 -0.800947   \n",
       "electricity                         0.037596 -0.055822 -0.055822 -0.047403   \n",
       "hotwater                            0.175639 -0.102642 -0.102642 -0.152255   \n",
       "water                              -0.151832  0.109105  0.109105  0.510737   \n",
       "gas                                -0.247868  0.103342  0.103341  0.496753   \n",
       "industry                           -0.074188 -0.058156 -0.058156 -0.254591   \n",
       "subindustry                         0.314158 -0.227132 -0.227132 -0.685099   \n",
       "heatingtype                        -0.301946  0.167083  0.167082  0.772017   \n",
       "yearbuilt                          -0.167929  0.047399  0.047399  0.044533   \n",
       "numberoffloors                     -0.269851  0.562444  0.562443  0.597576   \n",
       "occupants                           0.311069  0.723591  0.723591 -0.005716   \n",
       "rating                             -0.235667  0.045534  0.045533  0.498367   \n",
       "\n",
       "                            lng  timezone  electricity  hotwater     water  \\\n",
       "building_id            0.779019 -0.595416    -0.003282 -0.187493  0.374803   \n",
       "site_id                0.580064 -0.275087    -0.049880 -0.353641  0.175414   \n",
       "primaryspaceusage      0.199328 -0.065445     0.078734 -0.028428  0.003575   \n",
       "sub_primaryspaceusage -0.333291  0.262133     0.037596  0.175639 -0.151832   \n",
       "sqm                    0.338751 -0.201420    -0.055822 -0.102642  0.109105   \n",
       "sqft                   0.338750 -0.201419    -0.055822 -0.102642  0.109105   \n",
       "lat                    0.949888 -0.800947    -0.047403 -0.152255  0.510737   \n",
       "lng                    1.000000 -0.882117    -0.041664 -0.011308  0.562497   \n",
       "timezone              -0.882117  1.000000     0.025880 -0.103162 -0.637667   \n",
       "electricity           -0.041664  0.025880     1.000000  0.015945 -0.016503   \n",
       "hotwater              -0.011308 -0.103162     0.015945  1.000000  0.065783   \n",
       "water                  0.562497 -0.637667    -0.016503  0.065783  1.000000   \n",
       "gas                    0.361840 -0.128971    -0.057693 -0.276374 -0.008743   \n",
       "industry              -0.139550  0.276607     0.066746  0.170420 -0.176383   \n",
       "subindustry           -0.552647  0.408475    -0.082868  0.251665 -0.260471   \n",
       "heatingtype            0.784895 -0.900492    -0.028542 -0.083613  0.574214   \n",
       "yearbuilt              0.003074       NaN     0.042167 -0.005377       NaN   \n",
       "numberoffloors         0.492774  0.064094    -0.062176 -0.319871 -0.066868   \n",
       "occupants             -0.005716       NaN    -0.088121       NaN       NaN   \n",
       "rating                 0.489675 -0.416989    -0.039365 -0.029306  0.283300   \n",
       "\n",
       "                            gas  industry  subindustry  heatingtype  \\\n",
       "building_id            0.553022 -0.222546    -0.780666     0.622615   \n",
       "site_id                0.607395 -0.276156    -0.614748     0.397104   \n",
       "primaryspaceusage      0.363764  0.323773    -0.441527     0.065072   \n",
       "sub_primaryspaceusage -0.247868 -0.074188     0.314158    -0.301946   \n",
       "sqm                    0.103342 -0.058156    -0.227132     0.167083   \n",
       "sqft                   0.103341 -0.058156    -0.227132     0.167082   \n",
       "lat                    0.496753 -0.254591    -0.685099     0.772017   \n",
       "lng                    0.361840 -0.139550    -0.552647     0.784895   \n",
       "timezone              -0.128971  0.276607     0.408475    -0.900492   \n",
       "electricity           -0.057693  0.066746    -0.082868    -0.028542   \n",
       "hotwater              -0.276374  0.170420     0.251665    -0.083613   \n",
       "water                 -0.008743 -0.176383    -0.260471     0.574214   \n",
       "gas                    1.000000 -0.034772    -0.563545     0.197649   \n",
       "industry              -0.034772  1.000000     0.132317    -0.386073   \n",
       "subindustry           -0.563545  0.132317     1.000000    -0.482997   \n",
       "heatingtype            0.197649 -0.386073    -0.482997     1.000000   \n",
       "yearbuilt              0.067697  0.072803     0.015982    -0.116381   \n",
       "numberoffloors         0.525517 -0.012834    -0.465798     0.040162   \n",
       "occupants             -0.157556 -0.263274     0.114232    -0.213286   \n",
       "rating                 0.398610 -0.018228    -0.477610     0.382468   \n",
       "\n",
       "                       yearbuilt  numberoffloors  occupants    rating  \n",
       "building_id            -0.072478        0.588559  -0.063499  0.516624  \n",
       "site_id                -0.094066        0.779264  -0.005716  0.363608  \n",
       "primaryspaceusage      -0.087075        0.273627  -0.232932  0.299572  \n",
       "sub_primaryspaceusage  -0.167929       -0.269851   0.311069 -0.235667  \n",
       "sqm                     0.047399        0.562444   0.723591  0.045534  \n",
       "sqft                    0.047399        0.562443   0.723591  0.045533  \n",
       "lat                     0.044533        0.597576  -0.005716  0.498367  \n",
       "lng                     0.003074        0.492774  -0.005716  0.489675  \n",
       "timezone                     NaN        0.064094        NaN -0.416989  \n",
       "electricity             0.042167       -0.062176  -0.088121 -0.039365  \n",
       "hotwater               -0.005377       -0.319871        NaN -0.029306  \n",
       "water                        NaN       -0.066868        NaN  0.283300  \n",
       "gas                     0.067697        0.525517  -0.157556  0.398610  \n",
       "industry                0.072803       -0.012834  -0.263274 -0.018228  \n",
       "subindustry             0.015982       -0.465798   0.114232 -0.477610  \n",
       "heatingtype            -0.116381        0.040162  -0.213286  0.382468  \n",
       "yearbuilt               1.000000       -0.063485   0.052983  0.027528  \n",
       "numberoffloors         -0.063485        1.000000   0.253014  0.199635  \n",
       "occupants               0.052983        0.253014   1.000000 -0.160794  \n",
       "rating                  0.027528        0.199635  -0.160794  1.000000  "
      ]
     },
     "execution_count": 42,
     "metadata": {},
     "output_type": "execute_result"
    }
   ],
   "source": [
    "metadata.corr()"
   ]
  },
  {
   "cell_type": "markdown",
   "metadata": {},
   "source": [
    "Confusing, difficult to make sense of this table. Let's visualize it:"
   ]
  },
  {
   "cell_type": "code",
   "execution_count": 46,
   "metadata": {},
   "outputs": [
    {
     "data": {
      "text/plain": [
       "<Axes: >"
      ]
     },
     "execution_count": 46,
     "metadata": {},
     "output_type": "execute_result"
    },
    {
     "data": {
      "image/png": "[encoded data removed]",
      "text/plain": [
       "<Figure size 1500x500 with 2 Axes>"
      ]
     },
     "metadata": {},
     "output_type": "display_data"
    }
   ],
   "source": [
    "# graphical settings, optional\n",
    "sns.set(font_scale=0.5, rc={'figure.figsize':(15,5)})\n",
    "# cmap = sns.diverging_palette(20, 250, as_cmap=True)\n",
    "\n",
    "# code to produce the diagram:\n",
    "sns.heatmap(metadata.corr(),  \n",
    "            # cmap=cmap,\n",
    "            square=True, \n",
    "            linewidths=.5, \n",
    "            cbar_kws={\"shrink\": .5})"
   ]
  },
  {
   "cell_type": "markdown",
   "metadata": {},
   "source": [
    "We can see that (as expected) lat and lng have a high correlation with each other as well as with the timezone. Why is that? What should we do (or not do about it)?"
   ]
  },
  {
   "cell_type": "markdown",
   "metadata": {},
   "source": [
    "Logically we can derive that these columns tell us the same information in different ways. Of course, different site_ids will have different lat and lon, but same site_id will have the same lat and lon. The best practice is usually removing columns that do not communicate any additional value to us. Which columns could we remove without losing too much information?"
   ]
  },
  {
   "cell_type": "markdown",
   "metadata": {},
   "source": [
    "Some useful functions for looking into data:"
   ]
  },
  {
   "cell_type": "code",
   "execution_count": 47,
   "metadata": {},
   "outputs": [
    {
     "data": {
      "text/plain": [
       "heatingtype\n",
       "5     172\n",
       "12     36\n",
       "7      24\n",
       "2       5\n",
       "4       3\n",
       "11      2\n",
       "10      2\n",
       "3       2\n",
       "8       1\n",
       "9       1\n",
       "0       1\n",
       "1       1\n",
       "6       1\n",
       "Name: count, dtype: int64"
      ]
     },
     "execution_count": 47,
     "metadata": {},
     "output_type": "execute_result"
    }
   ],
   "source": [
    "metadata[\"heatingtype\"].value_counts()"
   ]
  },
  {
   "cell_type": "code",
   "execution_count": 50,
   "metadata": {},
   "outputs": [
    {
     "data": {
      "text/plain": [
       "array([12])"
      ]
     },
     "execution_count": 50,
     "metadata": {},
     "output_type": "execute_result"
    }
   ],
   "source": [
    "metadata.loc[metadata[\"timezone\"]!=1][\"heatingtype\"].unique()  # choosing only the part of the table where timezone is not 1"
   ]
  },
  {
   "cell_type": "code",
   "execution_count": 69,
   "metadata": {},
   "outputs": [
    {
     "data": {
      "text/html": [
       "<div>\n",
       "<style scoped>\n",
       "    .dataframe tbody tr th:only-of-type {\n",
       "        vertical-align: middle;\n",
       "    }\n",
       "\n",
       "    .dataframe tbody tr th {\n",
       "        vertical-align: top;\n",
       "    }\n",
       "\n",
       "    .dataframe thead th {\n",
       "        text-align: right;\n",
       "    }\n",
       "</style>\n",
       "<table border=\"1\" class=\"dataframe\">\n",
       "  <thead>\n",
       "    <tr style=\"text-align: right;\">\n",
       "      <th></th>\n",
       "      <th>timezone</th>\n",
       "      <th>yearbuilt</th>\n",
       "    </tr>\n",
       "  </thead>\n",
       "  <tbody>\n",
       "    <tr>\n",
       "      <th>0</th>\n",
       "      <td>0</td>\n",
       "      <td>NaN</td>\n",
       "    </tr>\n",
       "    <tr>\n",
       "      <th>1</th>\n",
       "      <td>1</td>\n",
       "      <td>1960.592965</td>\n",
       "    </tr>\n",
       "  </tbody>\n",
       "</table>\n",
       "</div>"
      ],
      "text/plain": [
       "   timezone    yearbuilt\n",
       "0         0          NaN\n",
       "1         1  1960.592965"
      ]
     },
     "execution_count": 69,
     "metadata": {},
     "output_type": "execute_result"
    }
   ],
   "source": [
    "metadata[[\"timezone\", \"yearbuilt\"]].groupby(\"timezone\", as_index=False).mean()"
   ]
  },
  {
   "cell_type": "markdown",
   "metadata": {},
   "source": [
    "#### 🧩 Task III - Dropping correlating columns"
   ]
  },
  {
   "cell_type": "code",
   "execution_count": null,
   "metadata": {},
   "outputs": [],
   "source": [
    "columns_to_drop = # Your code here\n",
    "\n",
    "metadata = metadata.drop(columns=columns_to_drop)"
   ]
  },
  {
   "cell_type": "markdown",
   "metadata": {},
   "source": [
    "#### ⚙️ Solution"
   ]
  },
  {
   "cell_type": "code",
   "execution_count": 51,
   "metadata": {},
   "outputs": [],
   "source": [
    "columns_to_drop = [\"lat\", \"lng\", \"sqft\"]\n",
    "\n",
    "metadata = metadata.drop(columns=columns_to_drop)"
   ]
  },
  {
   "cell_type": "markdown",
   "metadata": {},
   "source": [
    "### Correlation with the target"
   ]
  },
  {
   "cell_type": "markdown",
   "metadata": {},
   "source": [
    "Don't forget that all this time we have only looking at buildings' metadata! Our goal is **to predict** how these buildings would behave in terms of energy consumption. Let's look at the correlation in the train dataset:"
   ]
  },
  {
   "cell_type": "code",
   "execution_count": 54,
   "metadata": {},
   "outputs": [
    {
     "data": {
      "text/plain": [
       "<Axes: >"
      ]
     },
     "execution_count": 54,
     "metadata": {},
     "output_type": "execute_result"
    },
    {
     "data": {
      "image/png": "[encoded data removed]",
      "text/plain": [
       "<Figure size 400x300 with 2 Axes>"
      ]
     },
     "metadata": {},
     "output_type": "display_data"
    }
   ],
   "source": [
    "# graphical settings, optional\n",
    "sns.set(font_scale=0.5, rc={'figure.figsize':(4,3)})\n",
    "\n",
    "# code to produce the diagram:\n",
    "sns.heatmap(train[[\"building_id\", \"meter\", \"meter_reading\"]].corr(), \n",
    "            square=True)"
   ]
  },
  {
   "cell_type": "markdown",
   "metadata": {},
   "source": [
    "Ok, so our meter type doesn't correlate with our target value. Building Id on the other hand does have some correlation with the target"
   ]
  },
  {
   "cell_type": "code",
   "execution_count": 55,
   "metadata": {},
   "outputs": [
    {
     "data": {
      "text/plain": [
       "<Axes: >"
      ]
     },
     "execution_count": 55,
     "metadata": {},
     "output_type": "execute_result"
    },
    {
     "data": {
      "image/png": "[encoded data removed]",
      "text/plain": [
       "<Figure size 400x300 with 2 Axes>"
      ]
     },
     "metadata": {},
     "output_type": "display_data"
    }
   ],
   "source": [
    "sns.heatmap(train[[\"building_id\", \"meter\", \"meter_reading\"]].groupby([\"building_id\", \"meter\"], as_index=False).mean().corr(), square=True)"
   ]
  },
  {
   "cell_type": "code",
   "execution_count": 56,
   "metadata": {},
   "outputs": [
    {
     "data": {
      "text/plain": [
       "<Axes: >"
      ]
     },
     "execution_count": 56,
     "metadata": {},
     "output_type": "execute_result"
    },
    {
     "data": {
      "image/png": "[encoded data removed]",
      "text/plain": [
       "<Figure size 400x300 with 2 Axes>"
      ]
     },
     "metadata": {},
     "output_type": "display_data"
    }
   ],
   "source": [
    "sns.heatmap(train[[\"building_id\", \"meter\", \"meter_reading\"]].groupby([\"building_id\", \"meter\"], as_index=False).sum().corr())"
   ]
  },
  {
   "cell_type": "markdown",
   "metadata": {},
   "source": [
    "### Comparing two dataframes"
   ]
  },
  {
   "cell_type": "code",
   "execution_count": 57,
   "metadata": {},
   "outputs": [
    {
     "data": {
      "text/html": [
       "<div>\n",
       "<style scoped>\n",
       "    .dataframe tbody tr th:only-of-type {\n",
       "        vertical-align: middle;\n",
       "    }\n",
       "\n",
       "    .dataframe tbody tr th {\n",
       "        vertical-align: top;\n",
       "    }\n",
       "\n",
       "    .dataframe thead th {\n",
       "        text-align: right;\n",
       "    }\n",
       "</style>\n",
       "<table border=\"1\" class=\"dataframe\">\n",
       "  <thead>\n",
       "    <tr style=\"text-align: right;\">\n",
       "      <th></th>\n",
       "      <th>building_id</th>\n",
       "      <th>day</th>\n",
       "      <th>meter</th>\n",
       "      <th>meter_reading</th>\n",
       "      <th>site_id</th>\n",
       "      <th>primaryspaceusage</th>\n",
       "      <th>sub_primaryspaceusage</th>\n",
       "      <th>sqm</th>\n",
       "      <th>timezone</th>\n",
       "      <th>electricity</th>\n",
       "      <th>hotwater</th>\n",
       "      <th>water</th>\n",
       "      <th>gas</th>\n",
       "      <th>industry</th>\n",
       "      <th>subindustry</th>\n",
       "      <th>heatingtype</th>\n",
       "      <th>yearbuilt</th>\n",
       "      <th>numberoffloors</th>\n",
       "      <th>occupants</th>\n",
       "      <th>rating</th>\n",
       "    </tr>\n",
       "  </thead>\n",
       "  <tbody>\n",
       "    <tr>\n",
       "      <th>0</th>\n",
       "      <td>2</td>\n",
       "      <td>2016-02-02</td>\n",
       "      <td>595</td>\n",
       "      <td>102.6</td>\n",
       "      <td>0</td>\n",
       "      <td>1</td>\n",
       "      <td>4</td>\n",
       "      <td>811.0</td>\n",
       "      <td>1</td>\n",
       "      <td>0</td>\n",
       "      <td>1</td>\n",
       "      <td>0</td>\n",
       "      <td>0</td>\n",
       "      <td>1</td>\n",
       "      <td>9</td>\n",
       "      <td>5</td>\n",
       "      <td>1976.0</td>\n",
       "      <td>1.0</td>\n",
       "      <td>NaN</td>\n",
       "      <td>6</td>\n",
       "    </tr>\n",
       "    <tr>\n",
       "      <th>1</th>\n",
       "      <td>2</td>\n",
       "      <td>2016-02-02</td>\n",
       "      <td>207</td>\n",
       "      <td>0.3</td>\n",
       "      <td>0</td>\n",
       "      <td>1</td>\n",
       "      <td>4</td>\n",
       "      <td>811.0</td>\n",
       "      <td>1</td>\n",
       "      <td>0</td>\n",
       "      <td>1</td>\n",
       "      <td>0</td>\n",
       "      <td>0</td>\n",
       "      <td>1</td>\n",
       "      <td>9</td>\n",
       "      <td>5</td>\n",
       "      <td>1976.0</td>\n",
       "      <td>1.0</td>\n",
       "      <td>NaN</td>\n",
       "      <td>6</td>\n",
       "    </tr>\n",
       "    <tr>\n",
       "      <th>2</th>\n",
       "      <td>2</td>\n",
       "      <td>2016-02-03</td>\n",
       "      <td>595</td>\n",
       "      <td>88.8</td>\n",
       "      <td>0</td>\n",
       "      <td>1</td>\n",
       "      <td>4</td>\n",
       "      <td>811.0</td>\n",
       "      <td>1</td>\n",
       "      <td>0</td>\n",
       "      <td>1</td>\n",
       "      <td>0</td>\n",
       "      <td>0</td>\n",
       "      <td>1</td>\n",
       "      <td>9</td>\n",
       "      <td>5</td>\n",
       "      <td>1976.0</td>\n",
       "      <td>1.0</td>\n",
       "      <td>NaN</td>\n",
       "      <td>6</td>\n",
       "    </tr>\n",
       "    <tr>\n",
       "      <th>3</th>\n",
       "      <td>2</td>\n",
       "      <td>2016-02-03</td>\n",
       "      <td>207</td>\n",
       "      <td>0.1</td>\n",
       "      <td>0</td>\n",
       "      <td>1</td>\n",
       "      <td>4</td>\n",
       "      <td>811.0</td>\n",
       "      <td>1</td>\n",
       "      <td>0</td>\n",
       "      <td>1</td>\n",
       "      <td>0</td>\n",
       "      <td>0</td>\n",
       "      <td>1</td>\n",
       "      <td>9</td>\n",
       "      <td>5</td>\n",
       "      <td>1976.0</td>\n",
       "      <td>1.0</td>\n",
       "      <td>NaN</td>\n",
       "      <td>6</td>\n",
       "    </tr>\n",
       "    <tr>\n",
       "      <th>4</th>\n",
       "      <td>2</td>\n",
       "      <td>2016-02-04</td>\n",
       "      <td>595</td>\n",
       "      <td>76.3</td>\n",
       "      <td>0</td>\n",
       "      <td>1</td>\n",
       "      <td>4</td>\n",
       "      <td>811.0</td>\n",
       "      <td>1</td>\n",
       "      <td>0</td>\n",
       "      <td>1</td>\n",
       "      <td>0</td>\n",
       "      <td>0</td>\n",
       "      <td>1</td>\n",
       "      <td>9</td>\n",
       "      <td>5</td>\n",
       "      <td>1976.0</td>\n",
       "      <td>1.0</td>\n",
       "      <td>NaN</td>\n",
       "      <td>6</td>\n",
       "    </tr>\n",
       "  </tbody>\n",
       "</table>\n",
       "</div>"
      ],
      "text/plain": [
       "   building_id         day  meter  meter_reading  site_id  primaryspaceusage  \\\n",
       "0            2  2016-02-02    595          102.6        0                  1   \n",
       "1            2  2016-02-02    207            0.3        0                  1   \n",
       "2            2  2016-02-03    595           88.8        0                  1   \n",
       "3            2  2016-02-03    207            0.1        0                  1   \n",
       "4            2  2016-02-04    595           76.3        0                  1   \n",
       "\n",
       "   sub_primaryspaceusage    sqm  timezone  electricity  hotwater  water  gas  \\\n",
       "0                      4  811.0         1            0         1      0    0   \n",
       "1                      4  811.0         1            0         1      0    0   \n",
       "2                      4  811.0         1            0         1      0    0   \n",
       "3                      4  811.0         1            0         1      0    0   \n",
       "4                      4  811.0         1            0         1      0    0   \n",
       "\n",
       "   industry  subindustry  heatingtype  yearbuilt  numberoffloors  occupants  \\\n",
       "0         1            9            5     1976.0             1.0        NaN   \n",
       "1         1            9            5     1976.0             1.0        NaN   \n",
       "2         1            9            5     1976.0             1.0        NaN   \n",
       "3         1            9            5     1976.0             1.0        NaN   \n",
       "4         1            9            5     1976.0             1.0        NaN   \n",
       "\n",
       "   rating  \n",
       "0       6  \n",
       "1       6  \n",
       "2       6  \n",
       "3       6  \n",
       "4       6  "
      ]
     },
     "execution_count": 57,
     "metadata": {},
     "output_type": "execute_result"
    }
   ],
   "source": [
    "full_df = train.merge(metadata, on='building_id', how='left')\n",
    "full_df.head()"
   ]
  },
  {
   "cell_type": "markdown",
   "metadata": {},
   "source": []
  },
  {
   "cell_type": "markdown",
   "metadata": {},
   "source": [
    "#### 🧩 Task IV - Correlation between the features and the target"
   ]
  },
  {
   "cell_type": "markdown",
   "metadata": {},
   "source": [
    "Can you see any patterns in this diagram? What information does it provide regarding the given buildings?"
   ]
  },
  {
   "cell_type": "code",
   "execution_count": 72,
   "metadata": {},
   "outputs": [
    {
     "data": {
      "text/plain": [
       "<Axes: >"
      ]
     },
     "execution_count": 72,
     "metadata": {},
     "output_type": "execute_result"
    },
    {
     "data": {
      "image/png": "[encoded data removed]",
      "text/plain": [
       "<Figure size 700x700 with 2 Axes>"
      ]
     },
     "metadata": {},
     "output_type": "display_data"
    }
   ],
   "source": [
    "sns.set(font_scale=0.5, rc={'figure.figsize':(7,7)})\n",
    "sns.heatmap(full_df.drop(columns=[ \"day\"]).corr(), square=True)"
   ]
  },
  {
   "cell_type": "code",
   "execution_count": null,
   "metadata": {},
   "outputs": [],
   "source": [
    "columns_to_drop = # Your code here\n",
    "\n",
    "metadata = metadata.drop(columns=columns_to_drop)"
   ]
  },
  {
   "cell_type": "markdown",
   "metadata": {},
   "source": [
    "#### ⚙️ Solution\n"
   ]
  },
  {
   "cell_type": "markdown",
   "metadata": {},
   "source": [
    "Answer:\n",
    "* site_id correlates with the number of floors, which means that most of the buildings on one site are similar in their height\n",
    "* heatingtype correlates with site_id and timezone; we have already noticed that one timezone is characterized of one particular heating type; now we can see that it even correlates with gas and water;\n",
    "* features that have strongest correlation with the target value are occupants, heatingtype, sqm\n",
    "* ..."
   ]
  },
  {
   "cell_type": "markdown",
   "metadata": {},
   "source": [
    "### 🎢 Saving our work"
   ]
  },
  {
   "cell_type": "code",
   "execution_count": 77,
   "metadata": {},
   "outputs": [],
   "source": [
    "full_df.to_csv(\"../../kaggle_data/tutorial_results/01.csv\")\n",
    "metadata.to_csv(\"../../kaggle_data/tutorial_results/01_metadata.csv\")"
   ]
  },
  {
   "cell_type": "markdown",
   "metadata": {},
   "source": [
    "## Resources"
   ]
  },
  {
   "cell_type": "markdown",
   "metadata": {},
   "source": []
  }
 ],
 "metadata": {
  "kernelspec": {
   "display_name": "capacity",
   "language": "python",
   "name": "python3"
  },
  "language_info": {
   "codemirror_mode": {
    "name": "ipython",
    "version": 3
   },
   "file_extension": ".py",
   "mimetype": "text/x-python",
   "name": "python",
   "nbconvert_exporter": "python",
   "pygments_lexer": "ipython3",
   "version": "3.10.6"
  }
 },
 "nbformat": 4,
 "nbformat_minor": 2
}
